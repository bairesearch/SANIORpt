{
  "cells": [
    {
      "cell_type": "markdown",
      "metadata": {
        "id": "wgG8HHxG--qS"
      },
      "source": [
        "# Sparse CNN: MNIST with SciKit-Learn and skorch\n",
        "\n",
        "This notebooks shows how to define and train a simple Neural-Network with PyTorch and use it via skorch with SciKit-Learn.\n",
        "\n",
        "<table align=\"left\"><td>\n",
        "<a target=\"_blank\" href=\"https://colab.research.google.com/github/skorch-dev/skorch/blob/master/notebooks/MNIST.ipynb\">\n",
        "    <img src=\"https://www.tensorflow.org/images/colab_logo_32px.png\" />Run in Google Colab</a>  \n",
        "</td><td>\n",
        "<a target=\"_blank\" href=\"https://github.com/skorch-dev/skorch/blob/master/notebooks/MNIST.ipynb\"><img width=32px src=\"https://www.tensorflow.org/images/GitHub-Mark-32px.png\" />View source on GitHub</a></td></table>"
      ]
    },
    {
      "cell_type": "markdown",
      "metadata": {
        "id": "7kqyDzl0--qd"
      },
      "source": [
        "**Note**: If you are running this in [a colab notebook](https://colab.research.google.com/github/skorch-dev/skorch/blob/master/notebooks/MNIST.ipynb), we recommend you enable a free GPU by going:\n",
        "\n",
        "> **Runtime**   →   **Change runtime type**   →   **Hardware Accelerator: GPU**\n",
        "\n",
        "If you are running in colab, you should install the dependencies and download the dataset by running the following cell:"
      ]
    },
    {
      "cell_type": "code",
      "execution_count": 1,
      "metadata": {
        "id": "tHDn4fb3--qg",
        "colab": {
          "base_uri": "https://localhost:8080/"
        },
        "outputId": "64a8ae01-fcf1-4150-f0c2-2a2df73db017"
      },
      "outputs": [
        {
          "output_type": "stream",
          "name": "stdout",
          "text": [
            "Looking in indexes: https://pypi.org/simple, https://us-python.pkg.dev/colab-wheels/public/simple/\n",
            "Requirement already satisfied: torch in /usr/local/lib/python3.7/dist-packages (1.12.1+cu113)\n",
            "Requirement already satisfied: scikit-learn==0.20.* in /usr/local/lib/python3.7/dist-packages (0.20.4)\n",
            "Requirement already satisfied: skorch in /usr/local/lib/python3.7/dist-packages (0.11.0)\n",
            "Requirement already satisfied: numpy>=1.8.2 in /usr/local/lib/python3.7/dist-packages (from scikit-learn==0.20.*) (1.21.6)\n",
            "Requirement already satisfied: scipy>=0.13.3 in /usr/local/lib/python3.7/dist-packages (from scikit-learn==0.20.*) (1.7.3)\n",
            "Requirement already satisfied: typing-extensions in /usr/local/lib/python3.7/dist-packages (from torch) (4.1.1)\n",
            "Requirement already satisfied: tqdm>=4.14.0 in /usr/local/lib/python3.7/dist-packages (from skorch) (4.64.0)\n",
            "Requirement already satisfied: tabulate>=0.7.7 in /usr/local/lib/python3.7/dist-packages (from skorch) (0.8.10)\n"
          ]
        }
      ],
      "source": [
        "! [ ! -z \"$COLAB_GPU\" ] && pip install torch scikit-learn==0.20.* skorch"
      ]
    },
    {
      "cell_type": "code",
      "execution_count": 2,
      "metadata": {
        "id": "VZiqCkU3--qi",
        "colab": {
          "base_uri": "https://localhost:8080/"
        },
        "outputId": "ddca2301-89b6-4741-850e-1996f38c9b1e"
      },
      "outputs": [
        {
          "output_type": "stream",
          "name": "stderr",
          "text": [
            "/usr/local/lib/python3.7/dist-packages/sklearn/feature_extraction/image.py:167: DeprecationWarning: `np.int` is a deprecated alias for the builtin `int`. To silence this warning, use `int` by itself. Doing this will not modify any behavior and is safe. When replacing `np.int`, you may wish to use e.g. `np.int64` or `np.int32` to specify the precision. If you wish to review your current use, check the release note link for additional information.\n",
            "Deprecated in NumPy 1.20; for more details and guidance: https://numpy.org/devdocs/release/1.20.0-notes.html#deprecations\n",
            "  dtype=np.int):\n"
          ]
        }
      ],
      "source": [
        "from sklearn.datasets import fetch_openml\n",
        "from sklearn.model_selection import train_test_split\n",
        "import numpy as np\n",
        "import matplotlib.pyplot as plt\n",
        "\n",
        "from warnings import filterwarnings\n",
        "#filterwarnings(action='ignore', category=DeprecationWarning, message='is a deprecated alias')\n",
        "filterwarnings(\"ignore\")\n",
        "\n",
        "useSparseCNN = True\n",
        "if(useSparseCNN):\n",
        "    batchSize = 128\n",
        "else:\n",
        "    batchSize = 128"
      ]
    },
    {
      "cell_type": "markdown",
      "metadata": {
        "id": "UhsLIZfg--qk"
      },
      "source": [
        "## Loading Data\n",
        "Using SciKit-Learns ```fetch_openml``` to load MNIST data."
      ]
    },
    {
      "cell_type": "code",
      "execution_count": 3,
      "metadata": {
        "id": "OHo3HR4P--qm"
      },
      "outputs": [],
      "source": [
        "mnist = fetch_openml('mnist_784', cache=False)"
      ]
    },
    {
      "cell_type": "code",
      "execution_count": 4,
      "metadata": {
        "id": "yK-oE30K--qn",
        "outputId": "ce5a64f9-9e7d-454c-f46e-6f830d5d29b6",
        "colab": {
          "base_uri": "https://localhost:8080/"
        }
      },
      "outputs": [
        {
          "output_type": "execute_result",
          "data": {
            "text/plain": [
              "(70000, 784)"
            ]
          },
          "metadata": {},
          "execution_count": 4
        }
      ],
      "source": [
        "mnist.data.shape"
      ]
    },
    {
      "cell_type": "markdown",
      "metadata": {
        "id": "iBecc6yQ--qp"
      },
      "source": [
        "## Preprocessing Data\n",
        "\n",
        "Each image of the MNIST dataset is encoded in a 784 dimensional vector, representing a 28 x 28 pixel image. Each pixel has a value between 0 and 255, corresponding to the grey-value of a pixel.<br />\n",
        "The above ```featch_mldata``` method to load MNIST returns ```data``` and ```target``` as ```uint8``` which we convert to ```float32``` and ```int64``` respectively."
      ]
    },
    {
      "cell_type": "code",
      "execution_count": 5,
      "metadata": {
        "id": "hWTDRrfA--qq"
      },
      "outputs": [],
      "source": [
        "X = mnist.data.astype('float32')\n",
        "y = mnist.target.astype('int64')"
      ]
    },
    {
      "cell_type": "markdown",
      "metadata": {
        "id": "SBMFueA9--qs"
      },
      "source": [
        "To avoid big weights that deal with the pixel values from between [0, 255], we scale `X` down. A commonly used range is [0, 1]."
      ]
    },
    {
      "cell_type": "code",
      "execution_count": 6,
      "metadata": {
        "id": "BF6q-259--qt"
      },
      "outputs": [],
      "source": [
        "X /= 255.0"
      ]
    },
    {
      "cell_type": "code",
      "execution_count": 7,
      "metadata": {
        "id": "3gkoxPMQ--qu",
        "outputId": "4e562fa0-7a9b-4ebe-ca70-979560881006",
        "colab": {
          "base_uri": "https://localhost:8080/"
        }
      },
      "outputs": [
        {
          "output_type": "execute_result",
          "data": {
            "text/plain": [
              "(0.0, 1.0)"
            ]
          },
          "metadata": {},
          "execution_count": 7
        }
      ],
      "source": [
        "X.min(), X.max()"
      ]
    },
    {
      "cell_type": "markdown",
      "metadata": {
        "id": "kOgDy8AC--qu"
      },
      "source": [
        "Note: data is not normalized."
      ]
    },
    {
      "cell_type": "code",
      "execution_count": 8,
      "metadata": {
        "id": "Uk5cZ7iQ--qv"
      },
      "outputs": [],
      "source": [
        "X_train, X_test, y_train, y_test = train_test_split(X, y, test_size=0.25, random_state=42)"
      ]
    },
    {
      "cell_type": "code",
      "execution_count": 9,
      "metadata": {
        "id": "JdzB7Jnn--qw"
      },
      "outputs": [],
      "source": [
        "assert(X_train.shape[0] + X_test.shape[0] == mnist.data.shape[0])"
      ]
    },
    {
      "cell_type": "code",
      "execution_count": 10,
      "metadata": {
        "id": "BpeDtsDy--qw",
        "outputId": "d3341a55-99f9-42fc-be71-01b24063a0d5",
        "colab": {
          "base_uri": "https://localhost:8080/"
        }
      },
      "outputs": [
        {
          "output_type": "execute_result",
          "data": {
            "text/plain": [
              "((52500, 784), (52500,))"
            ]
          },
          "metadata": {},
          "execution_count": 10
        }
      ],
      "source": [
        "X_train.shape, y_train.shape"
      ]
    },
    {
      "cell_type": "markdown",
      "metadata": {
        "id": "R_EJvc00--qx"
      },
      "source": [
        "### Print a selection of training images and their labels"
      ]
    },
    {
      "cell_type": "code",
      "execution_count": 11,
      "metadata": {
        "id": "z3urGwj5--qx"
      },
      "outputs": [],
      "source": [
        "def plot_example(X, y):\n",
        "    \"\"\"Plot the first 5 images and their labels in a row.\"\"\"\n",
        "    for i, (img, y) in enumerate(zip(X[:5].reshape(5, 28, 28), y[:5])):\n",
        "        plt.subplot(151 + i)\n",
        "        plt.imshow(img)\n",
        "        plt.xticks([])\n",
        "        plt.yticks([])\n",
        "        plt.title(y)"
      ]
    },
    {
      "cell_type": "code",
      "execution_count": 12,
      "metadata": {
        "id": "WCLy7ZXl--qy",
        "outputId": "c09afc20-ac6f-4e5e-bf7b-2db23e86dec0",
        "colab": {
          "base_uri": "https://localhost:8080/",
          "height": 108
        }
      },
      "outputs": [
        {
          "output_type": "display_data",
          "data": {
            "text/plain": [
              "<Figure size 432x288 with 5 Axes>"
            ],
            "image/png": "[encoded data removed]"
          },
          "metadata": {}
        }
      ],
      "source": [
        "plot_example(X_train, y_train)"
      ]
    },
    {
      "cell_type": "markdown",
      "metadata": {
        "id": "9lOkB3Dm--qy"
      },
      "source": [
        "## Build Neural Network with PyTorch\n",
        "Simple, fully connected neural network with one hidden layer. Input layer has 784 dimensions (28x28), hidden layer has 98 (= 784 / 8) and output layer 10 neurons, representing digits 0 - 9."
      ]
    },
    {
      "cell_type": "code",
      "execution_count": 13,
      "metadata": {
        "id": "8YysBfKi--qy"
      },
      "outputs": [],
      "source": [
        "import torch\n",
        "from torch import nn\n",
        "import torch.nn.functional as F"
      ]
    },
    {
      "cell_type": "code",
      "execution_count": 14,
      "metadata": {
        "id": "3OmjGef_--qz"
      },
      "outputs": [],
      "source": [
        "device = 'cuda' if torch.cuda.is_available() else 'cpu'"
      ]
    },
    {
      "cell_type": "code",
      "execution_count": 15,
      "metadata": {
        "id": "33lwxpxN--qz"
      },
      "outputs": [],
      "source": [
        "mnist_dim = X.shape[1]\n",
        "hidden_dim = int(mnist_dim/8)\n",
        "output_dim = len(np.unique(mnist.target))"
      ]
    },
    {
      "cell_type": "code",
      "execution_count": 16,
      "metadata": {
        "id": "0Dr2f4g9--q0",
        "outputId": "08f10adc-2089-4150-eca3-6f423b085229",
        "colab": {
          "base_uri": "https://localhost:8080/"
        }
      },
      "outputs": [
        {
          "output_type": "execute_result",
          "data": {
            "text/plain": [
              "(784, 98, 10)"
            ]
          },
          "metadata": {},
          "execution_count": 16
        }
      ],
      "source": [
        "mnist_dim, hidden_dim, output_dim"
      ]
    },
    {
      "cell_type": "markdown",
      "metadata": {
        "id": "0mHnjijo--q0"
      },
      "source": [
        "A Neural network in PyTorch's framework."
      ]
    },
    {
      "cell_type": "code",
      "execution_count": 17,
      "metadata": {
        "id": "uC311xvO--q0"
      },
      "outputs": [],
      "source": [
        "class ClassifierModule(nn.Module):\n",
        "    def __init__(\n",
        "            self,\n",
        "            input_dim=mnist_dim,\n",
        "            hidden_dim=hidden_dim,\n",
        "            output_dim=output_dim,\n",
        "            dropout=0.5,\n",
        "    ):\n",
        "        super(ClassifierModule, self).__init__()\n",
        "        self.dropout = nn.Dropout(dropout)\n",
        "\n",
        "        self.hidden = nn.Linear(input_dim, hidden_dim)\n",
        "        self.output = nn.Linear(hidden_dim, output_dim)\n",
        "\n",
        "    def forward(self, X, **kwargs):\n",
        "        X = F.relu(self.hidden(X))\n",
        "        X = self.dropout(X)\n",
        "        X = F.softmax(self.output(X), dim=-1)\n",
        "        return X"
      ]
    },
    {
      "cell_type": "markdown",
      "metadata": {
        "id": "-30HWZ-g--q1"
      },
      "source": [
        "skorch allows to use PyTorch's networks in the SciKit-Learn setting:"
      ]
    },
    {
      "cell_type": "code",
      "execution_count": 18,
      "metadata": {
        "id": "AicBGdq0--q1"
      },
      "outputs": [],
      "source": [
        "from skorch import NeuralNetClassifier"
      ]
    },
    {
      "cell_type": "code",
      "execution_count": 19,
      "metadata": {
        "id": "uBYpucG0--q2"
      },
      "outputs": [],
      "source": [
        "torch.manual_seed(0)\n",
        "\n",
        "net = NeuralNetClassifier(\n",
        "    ClassifierModule,\n",
        "    max_epochs=20,\n",
        "    lr=0.1,\n",
        "    device=device,\n",
        "    batch_size=batchSize,\n",
        ")"
      ]
    },
    {
      "cell_type": "code",
      "execution_count": 42,
      "metadata": {
        "id": "DfUx7jMR--q2",
        "outputId": "b857d3f9-6788-4341-a946-063df4a32bd1",
        "colab": {
          "base_uri": "https://localhost:8080/"
        }
      },
      "outputs": [
        {
          "output_type": "stream",
          "name": "stdout",
          "text": [
            "  epoch    train_loss    valid_acc    valid_loss     dur\n",
            "-------  ------------  -----------  ------------  ------\n",
            "      1        \u001b[36m0.8426\u001b[0m       \u001b[32m0.8925\u001b[0m        \u001b[35m0.3985\u001b[0m  1.7258\n",
            "      2        \u001b[36m0.4331\u001b[0m       \u001b[32m0.9135\u001b[0m        \u001b[35m0.3022\u001b[0m  1.0857\n",
            "      3        \u001b[36m0.3608\u001b[0m       \u001b[32m0.9168\u001b[0m        \u001b[35m0.2769\u001b[0m  1.0917\n",
            "      4        \u001b[36m0.3185\u001b[0m       \u001b[32m0.9311\u001b[0m        \u001b[35m0.2355\u001b[0m  1.0849\n",
            "      5        \u001b[36m0.2936\u001b[0m       \u001b[32m0.9351\u001b[0m        \u001b[35m0.2156\u001b[0m  1.0806\n",
            "      6        \u001b[36m0.2748\u001b[0m       \u001b[32m0.9426\u001b[0m        \u001b[35m0.1940\u001b[0m  1.0816\n",
            "      7        \u001b[36m0.2577\u001b[0m       \u001b[32m0.9465\u001b[0m        \u001b[35m0.1826\u001b[0m  1.0884\n",
            "      8        \u001b[36m0.2447\u001b[0m       \u001b[32m0.9473\u001b[0m        \u001b[35m0.1739\u001b[0m  1.0900\n",
            "      9        \u001b[36m0.2320\u001b[0m       \u001b[32m0.9506\u001b[0m        \u001b[35m0.1645\u001b[0m  1.0812\n",
            "     10        \u001b[36m0.2234\u001b[0m       \u001b[32m0.9526\u001b[0m        \u001b[35m0.1611\u001b[0m  1.1109\n",
            "     11        \u001b[36m0.2150\u001b[0m       \u001b[32m0.9543\u001b[0m        \u001b[35m0.1556\u001b[0m  1.0862\n",
            "     12        \u001b[36m0.2097\u001b[0m       \u001b[32m0.9548\u001b[0m        \u001b[35m0.1479\u001b[0m  1.0778\n",
            "     13        \u001b[36m0.2018\u001b[0m       \u001b[32m0.9570\u001b[0m        \u001b[35m0.1417\u001b[0m  1.1095\n",
            "     14        \u001b[36m0.1943\u001b[0m       \u001b[32m0.9576\u001b[0m        \u001b[35m0.1380\u001b[0m  1.0728\n",
            "     15        \u001b[36m0.1903\u001b[0m       \u001b[32m0.9589\u001b[0m        \u001b[35m0.1349\u001b[0m  1.1039\n",
            "     16        \u001b[36m0.1864\u001b[0m       \u001b[32m0.9591\u001b[0m        \u001b[35m0.1328\u001b[0m  1.0804\n",
            "     17        \u001b[36m0.1802\u001b[0m       0.9586        \u001b[35m0.1303\u001b[0m  1.0604\n",
            "     18        \u001b[36m0.1758\u001b[0m       \u001b[32m0.9610\u001b[0m        \u001b[35m0.1268\u001b[0m  1.0811\n",
            "     19        \u001b[36m0.1748\u001b[0m       \u001b[32m0.9614\u001b[0m        \u001b[35m0.1267\u001b[0m  1.0828\n",
            "     20        \u001b[36m0.1683\u001b[0m       0.9613        \u001b[35m0.1243\u001b[0m  1.0782\n"
          ]
        }
      ],
      "source": [
        "net.fit(X_train, y_train);"
      ]
    },
    {
      "cell_type": "markdown",
      "metadata": {
        "id": "DjgE-Uto--q2"
      },
      "source": [
        "## Prediction"
      ]
    },
    {
      "cell_type": "code",
      "execution_count": 39,
      "metadata": {
        "id": "QJMblY39--q3"
      },
      "outputs": [],
      "source": [
        "from sklearn.metrics import accuracy_score"
      ]
    },
    {
      "cell_type": "code",
      "execution_count": 43,
      "metadata": {
        "id": "lLD7E8KR--q3"
      },
      "outputs": [],
      "source": [
        "y_pred = net.predict(X_test)"
      ]
    },
    {
      "cell_type": "code",
      "execution_count": 44,
      "metadata": {
        "id": "_dCUHN_p--q3",
        "outputId": "b30f3265-5c24-49d1-bdf9-2adc3dc628f0",
        "colab": {
          "base_uri": "https://localhost:8080/"
        }
      },
      "outputs": [
        {
          "output_type": "execute_result",
          "data": {
            "text/plain": [
              "0.9610285714285715"
            ]
          },
          "metadata": {},
          "execution_count": 44
        }
      ],
      "source": [
        "accuracy_score(y_test, y_pred)"
      ]
    },
    {
      "cell_type": "markdown",
      "metadata": {
        "id": "bXLcdqbN--q4"
      },
      "source": [
        "An accuracy of about 96% for a network with only one hidden layer is not too bad.\n",
        "\n",
        "Let's take a look at some predictions that went wrong:"
      ]
    },
    {
      "cell_type": "code",
      "execution_count": 45,
      "metadata": {
        "id": "Tin-L-ui--q4"
      },
      "outputs": [],
      "source": [
        "error_mask = y_pred != y_test"
      ]
    },
    {
      "cell_type": "code",
      "execution_count": 46,
      "metadata": {
        "id": "XmRLxBgM--q4",
        "outputId": "f20b0b54-9bde-41b5-acd1-1cb3fb49466a",
        "colab": {
          "base_uri": "https://localhost:8080/",
          "height": 108
        }
      },
      "outputs": [
        {
          "output_type": "display_data",
          "data": {
            "text/plain": [
              "<Figure size 432x288 with 5 Axes>"
            ],
            "image/png": "[encoded data removed]"
          },
          "metadata": {}
        }
      ],
      "source": [
        "plot_example(X_test[error_mask], y_pred[error_mask])"
      ]
    },
    {
      "cell_type": "markdown",
      "metadata": {
        "id": "XQ9yogDR--q5"
      },
      "source": [
        "# Convolutional Network\n",
        "PyTorch expects a 4 dimensional tensor as input for its 2D convolution layer. The dimensions represent:\n",
        "* Batch size\n",
        "* Number of channel\n",
        "* Height\n",
        "* Width\n",
        "\n",
        "As initial batch size the number of examples needs to be provided. MNIST data has only one channel. As stated above, each MNIST vector represents a 28x28 pixel image. Hence, the resulting shape for PyTorch tensor needs to be (x, 1, 28, 28). "
      ]
    },
    {
      "cell_type": "code",
      "execution_count": 26,
      "metadata": {
        "id": "446TDdHV--q5"
      },
      "outputs": [],
      "source": [
        "XCnn = X.reshape(-1, 1, 28, 28)"
      ]
    },
    {
      "cell_type": "code",
      "execution_count": 27,
      "metadata": {
        "id": "1kwClR2Q--q6",
        "outputId": "02e24b08-fa28-4cab-bece-bf33793498f3",
        "colab": {
          "base_uri": "https://localhost:8080/"
        }
      },
      "outputs": [
        {
          "output_type": "execute_result",
          "data": {
            "text/plain": [
              "(70000, 1, 28, 28)"
            ]
          },
          "metadata": {},
          "execution_count": 27
        }
      ],
      "source": [
        "XCnn.shape"
      ]
    },
    {
      "cell_type": "code",
      "execution_count": 28,
      "metadata": {
        "id": "XgYFsGJ7--q6"
      },
      "outputs": [],
      "source": [
        "XCnn_train, XCnn_test, y_train, y_test = train_test_split(XCnn, y, test_size=0.25, random_state=42)"
      ]
    },
    {
      "cell_type": "code",
      "execution_count": 29,
      "metadata": {
        "id": "tNJJXx4h--q6",
        "outputId": "34335a35-3cfa-4d26-ee99-5304ac422482",
        "colab": {
          "base_uri": "https://localhost:8080/"
        }
      },
      "outputs": [
        {
          "output_type": "execute_result",
          "data": {
            "text/plain": [
              "((52500, 1, 28, 28), (52500,))"
            ]
          },
          "metadata": {},
          "execution_count": 29
        }
      ],
      "source": [
        "XCnn_train.shape, y_train.shape"
      ]
    },
    {
      "cell_type": "code",
      "execution_count": 34,
      "metadata": {
        "id": "OXnsFnJf--q7"
      },
      "outputs": [],
      "source": [
        "\n",
        "\n",
        "class Cnn(nn.Module):\n",
        "    def __init__(self, dropout=0.5):\n",
        "        super(Cnn, self).__init__()\n",
        "\n",
        "        height = 28 #MNIST defined\n",
        "        width = 28  #MNIST defined\n",
        "        kernelSize = 3\n",
        "        padding = 0\n",
        "        stride = 1\n",
        "        self.maxPoolSize = 2 #assume max pool at each layer\n",
        "\n",
        "        self.numberOfSparseConvolutions = 1\n",
        "        self.numberOfchannelsFirstDenseLayer = 32   #first/dense CNN layer \n",
        "        numberOfchannels = self.numberOfchannelsFirstDenseLayer  \n",
        "        self.conv1 = nn.Conv2d(1, numberOfchannels, kernel_size=kernelSize, padding=padding, stride=stride)\n",
        "        height, width = self.getImageDimensionsAfterConv(height, width, kernelSize, padding, stride, self.maxPoolSize)\n",
        "        #print(\"self.numberOfchannelsFirstDenseLayer = \", self.numberOfchannelsFirstDenseLayer)\n",
        "\n",
        "        self.sparseConvList = [None]*self.numberOfSparseConvolutions\n",
        "        for c in range(self.numberOfSparseConvolutions):\n",
        "            if(useSparseCNN):\n",
        "                numChannelPairs = self.calculateNumberChannelPairs(numberOfchannels)\n",
        "                self.sparseConvList[c] = []\n",
        "                numberOfInputChannels = 2\n",
        "                numberOfOutputChannels = 1\n",
        "                for channelPairIndex in range(numChannelPairs):\n",
        "                    conv2 = nn.Conv2d(numberOfInputChannels, numberOfOutputChannels, kernel_size=kernelSize, padding=padding, stride=stride)\n",
        "                    self.sparseConvList[c].append(conv2)\n",
        "                height, width = self.getImageDimensionsAfterConv(height, width, kernelSize, padding, stride, self.maxPoolSize)\n",
        "                numberOfchannels = numChannelPairs*numberOfOutputChannels\n",
        "                #print(\"numberOfchannels = \", numberOfchannels)\n",
        "            else:\n",
        "                numberOfInputChannels = numberOfchannels\n",
        "                numberOfOutputChannels = numberOfchannels*2\n",
        "                conv2 = nn.Conv2d(numberOfchannels, numberOfOutputChannels, kernel_size=kernelSize, padding=padding, stride=stride)\n",
        "                height, width = self.getImageDimensionsAfterConv(height, width, kernelSize, padding, stride, self.maxPoolSize)\n",
        "                self.sparseConvList[c] = conv2\n",
        "                numberOfchannels = numberOfOutputChannels\n",
        "                #print(\"numberOfchannels = \", numberOfchannels)\n",
        "\n",
        "        firstLinearInputSize = numberOfchannels*width*height\n",
        "        #print(\"firstLinearInputSize = \", firstLinearInputSize)\n",
        "\n",
        "        self.conv2_drop = nn.Dropout2d(p=dropout)\n",
        "        self.fc1 = nn.Linear(firstLinearInputSize, 100)\n",
        "        self.fc2 = nn.Linear(100, 10)\n",
        "        self.fc1_drop = nn.Dropout(p=dropout)\n",
        "\n",
        "    def forward(self, x):\n",
        "        x = torch.relu(F.max_pool2d(self.conv1(x), kernel_size=self.maxPoolSize))\n",
        "        numberOfchannels = self.numberOfchannelsFirstDenseLayer\n",
        "\n",
        "        for c in range(self.numberOfSparseConvolutions):\n",
        "            if(useSparseCNN):\n",
        "                numChannelPairs = self.calculateNumberChannelPairs(numberOfchannels)\n",
        "                channelsPairsList = self.convertToChannelsToChannelPairsList(x)\n",
        "                channelPairCNNoutputList = []\n",
        "                for channelPairIndex in range(numChannelPairs):\n",
        "                    #print(\"channelPairIndex = \", channelPairIndex)\n",
        "                    CNNin = channelsPairsList[channelPairIndex]\n",
        "                    CNNout = (self.sparseConvList[c])[channelPairIndex](CNNin)\n",
        "                    CNNout = torch.squeeze(CNNout, dim=1)   #remove channel dim (size=numberOfOutputChannels=1); prepare for convertChannelPairCNNoutputListToChannels execution\n",
        "                    channelPairCNNoutputList.append(CNNout)\n",
        "                CNNout = self.convertChannelPairCNNoutputListToChannels(channelPairCNNoutputList)\n",
        "            else:\n",
        "                CNNin = x\n",
        "                CNNout = (self.sparseConvList[c])(CNNin)\n",
        "            CNNout = torch.relu(F.max_pool2d(self.conv2_drop(CNNout), kernel_size=self.maxPoolSize))\n",
        "            x = CNNout\n",
        "\n",
        "        # flatten over channel, height and width = 1600\n",
        "        x = x.view(-1, x.size(1) * x.size(2) * x.size(3))\n",
        "\n",
        "        #print(\"CNNout.shape = \", CNNout.shape)\n",
        "        #print(\"x.shape = \", x.shape)\n",
        "\n",
        "        x = torch.relu(self.fc1_drop(self.fc1(x)))\n",
        "        x = torch.softmax(self.fc2(x), dim=-1)\n",
        "        return x\n",
        "\n",
        "    def getImageDimensionsAfterConv(self, inputHeight, inputWidth, kernelSize, padding, stride, maxPoolSize):\n",
        "        height = (inputHeight - (kernelSize//2 * 2) + padding) // stride // maxPoolSize    #// = integer floor division\n",
        "        width = (inputWidth - (kernelSize//2 * 2) + padding) // stride // maxPoolSize\n",
        "        #print(\"getImageDimensionsAfterConv: inputHeight = \", inputHeight, \", height = \", height)\n",
        "        #print(\"getImageDimensionsAfterConv: inputWidth = \", inputWidth, \",width = \", width)\n",
        "        return height, width\n",
        "\n",
        "    def calculateNumberChannelPairs(self, numInputChannels):\n",
        "        numChannelPairs = numInputChannels**2\n",
        "        return numChannelPairs\n",
        "        #numOutputChannels = number of filters\n",
        "\n",
        "    def convertToChannelsToChannelPairsList(self, channels):\n",
        "        batchSize, numberOfchannels, height, width = self.getCNNtensorProperties(channels)\n",
        "        numChannelPairs = self.calculateNumberChannelPairs(numberOfchannels)\n",
        "        #print(\"numChannelPairs = \", numChannelPairs)\n",
        "        channelsPairsList = []\n",
        "        for channelIndex1 in range(numberOfchannels):\n",
        "            for channelIndex2 in range(numberOfchannels):\n",
        "                channelPairIndex = channelIndex1*numChannelPairs + channelIndex2 \n",
        "                #conv1 = torch.zeros(batchSize, 2, height, width)  #pos embeddings absolute include x/y dim only\n",
        "                channelPairSub1 = channels[:, channelIndex1, :, :] \n",
        "                channelPairSub2 = channels[:, channelIndex2, :, :]\n",
        "                channelPairSub1 = torch.unsqueeze(channelPairSub1, dim=1)\n",
        "                channelPairSub2 = torch.unsqueeze(channelPairSub2, dim=1)\n",
        "                channelPair = torch.cat((channelPairSub1, channelPairSub2), dim=1)\n",
        "                #print(\"channelPair.shape = \", channelPair.shape)\n",
        "                channelsPairsList.append(channelPair)\n",
        "        return channelsPairsList\n",
        "    \n",
        "    def getCNNtensorProperties(self, channels):\n",
        "        batchSize = channels.shape[0]\n",
        "        numberOfchannels = channels.shape[1]\n",
        "        height = channels.shape[2]\n",
        "        width = channels.shape[3]\n",
        "        #print(\"batchSize = \", batchSize)\n",
        "        return batchSize, numberOfchannels, height, width\n",
        "\n",
        "    def convertChannelPairCNNoutputListToChannels(self, channelPairCNNoutputList):\n",
        "        channels = torch.stack(channelPairCNNoutputList, dim=1)\n",
        "        return channels\n",
        "     "
      ]
    },
    {
      "cell_type": "code",
      "execution_count": 35,
      "metadata": {
        "id": "Hs3_lkRZ--q7"
      },
      "outputs": [],
      "source": [
        "torch.manual_seed(0)\n",
        "\n",
        "cnn = NeuralNetClassifier(\n",
        "    Cnn,\n",
        "    max_epochs=10,\n",
        "    lr=0.002,\n",
        "    optimizer=torch.optim.Adam,\n",
        "    device=device,\n",
        "    batch_size=batchSize,\n",
        ")"
      ]
    },
    {
      "cell_type": "code",
      "execution_count": 36,
      "metadata": {
        "id": "UykGA1k_--q7",
        "outputId": "b57ff7de-e7c1-41eb-c90f-3ab7523148db",
        "colab": {
          "base_uri": "https://localhost:8080/"
        }
      },
      "outputs": [
        {
          "output_type": "stream",
          "name": "stdout",
          "text": [
            "  epoch    train_loss    valid_acc    valid_loss        dur\n",
            "-------  ------------  -----------  ------------  ---------\n",
            "      1        \u001b[36m1.2500\u001b[0m       \u001b[32m0.9435\u001b[0m        \u001b[35m0.3034\u001b[0m  1905.1023\n",
            "      2        \u001b[36m0.7788\u001b[0m       \u001b[32m0.9609\u001b[0m        \u001b[35m0.1745\u001b[0m  1872.1424\n",
            "      3        \u001b[36m0.7021\u001b[0m       \u001b[32m0.9672\u001b[0m        \u001b[35m0.1217\u001b[0m  1880.2002\n",
            "      4        \u001b[36m0.6693\u001b[0m       0.9653        0.1244  1877.6903\n",
            "      5        \u001b[36m0.6527\u001b[0m       \u001b[32m0.9704\u001b[0m        \u001b[35m0.1165\u001b[0m  1872.7935\n",
            "      6        \u001b[36m0.6322\u001b[0m       \u001b[32m0.9706\u001b[0m        \u001b[35m0.1132\u001b[0m  1869.6956\n",
            "      7        \u001b[36m0.6165\u001b[0m       \u001b[32m0.9743\u001b[0m        \u001b[35m0.0971\u001b[0m  1886.2437\n",
            "      8        \u001b[36m0.6090\u001b[0m       0.9740        0.0984  1945.4915\n",
            "      9        \u001b[36m0.5972\u001b[0m       \u001b[32m0.9767\u001b[0m        \u001b[35m0.0895\u001b[0m  1946.0111\n",
            "     10        \u001b[36m0.5935\u001b[0m       0.9722        0.1019  1948.7684\n"
          ]
        }
      ],
      "source": [
        "cnn.fit(XCnn_train, y_train);"
      ]
    },
    {
      "cell_type": "code",
      "execution_count": 37,
      "metadata": {
        "id": "PNEhdJdW--q8"
      },
      "outputs": [],
      "source": [
        "y_pred_cnn = cnn.predict(XCnn_test)"
      ]
    },
    {
      "cell_type": "code",
      "execution_count": 40,
      "metadata": {
        "id": "szmTFII6--q8",
        "outputId": "9b6e84a9-a4f0-4328-f078-a64b550cb3a5",
        "colab": {
          "base_uri": "https://localhost:8080/"
        }
      },
      "outputs": [
        {
          "output_type": "execute_result",
          "data": {
            "text/plain": [
              "0.9712"
            ]
          },
          "metadata": {},
          "execution_count": 40
        }
      ],
      "source": [
        "accuracy_score(y_test, y_pred_cnn)"
      ]
    },
    {
      "cell_type": "markdown",
      "metadata": {
        "id": "KncVCQ7j--q9"
      },
      "source": [
        "An accuracy of >98% should suffice for this example!\n",
        "\n",
        "Let's see how we fare on the examples that went wrong before:"
      ]
    },
    {
      "cell_type": "code",
      "execution_count": 47,
      "metadata": {
        "id": "_ACEkdhG--q9",
        "outputId": "cfd71b1c-3c49-4c64-fd6a-033fbf87b44d",
        "colab": {
          "base_uri": "https://localhost:8080/"
        }
      },
      "outputs": [
        {
          "output_type": "execute_result",
          "data": {
            "text/plain": [
              "0.5615835777126099"
            ]
          },
          "metadata": {},
          "execution_count": 47
        }
      ],
      "source": [
        "accuracy_score(y_test[error_mask], y_pred_cnn[error_mask])"
      ]
    },
    {
      "cell_type": "markdown",
      "metadata": {
        "id": "J83N6ubG--q9"
      },
      "source": [
        "Over 70% of the previously misclassified images are now correctly identified."
      ]
    },
    {
      "cell_type": "code",
      "execution_count": 48,
      "metadata": {
        "id": "Xl1Jz5bg--q-",
        "outputId": "c9a55060-f178-4f02-9bb7-ef0b49b673b2",
        "colab": {
          "base_uri": "https://localhost:8080/",
          "height": 108
        }
      },
      "outputs": [
        {
          "output_type": "display_data",
          "data": {
            "text/plain": [
              "<Figure size 432x288 with 5 Axes>"
            ],
            "image/png": "[encoded data removed]"
          },
          "metadata": {}
        }
      ],
      "source": [
        "plot_example(X_test[error_mask], y_pred_cnn[error_mask])"
      ]
    }
  ],
  "metadata": {
    "kernelspec": {
      "display_name": "Python 3",
      "language": "python",
      "name": "python3"
    },
    "language_info": {
      "codemirror_mode": {
        "name": "ipython",
        "version": 3
      },
      "file_extension": ".py",
      "mimetype": "text/x-python",
      "name": "python",
      "nbconvert_exporter": "python",
      "pygments_lexer": "ipython3",
      "version": "3.6.8"
    },
    "colab": {
      "provenance": [],
      "name": "MNISTsparseCNN.ipynb",
      "collapsed_sections": []
    }
  },
  "nbformat": 4,
  "nbformat_minor": 0
}