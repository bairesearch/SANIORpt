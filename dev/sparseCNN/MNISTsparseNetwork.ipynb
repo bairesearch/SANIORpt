{
  "cells": [
    {
      "cell_type": "markdown",
      "metadata": {
        "id": "wgG8HHxG--qS"
      },
      "source": [
        "# Sparse Network: MNIST with SciKit-Learn and skorch\n",
        "\n",
        "This notebooks shows how to define and train a simple Neural-Network with PyTorch and use it via skorch with SciKit-Learn.\n",
        "\n",
        "<table align=\"left\"><td>\n",
        "<a target=\"_blank\" href=\"https://colab.research.google.com/github/skorch-dev/skorch/blob/master/notebooks/MNIST.ipynb\">\n",
        "    <img src=\"https://www.tensorflow.org/images/colab_logo_32px.png\" />Run in Google Colab</a>  \n",
        "</td><td>\n",
        "<a target=\"_blank\" href=\"https://github.com/skorch-dev/skorch/blob/master/notebooks/MNIST.ipynb\"><img width=32px src=\"https://www.tensorflow.org/images/GitHub-Mark-32px.png\" />View source on GitHub</a></td></table>"
      ]
    },
    {
      "cell_type": "markdown",
      "metadata": {
        "id": "7kqyDzl0--qd"
      },
      "source": [
        "**Note**: If you are running this in [a colab notebook](https://colab.research.google.com/github/skorch-dev/skorch/blob/master/notebooks/MNIST.ipynb), we recommend you enable a free GPU by going:\n",
        "\n",
        "> **Runtime**   →   **Change runtime type**   →   **Hardware Accelerator: GPU**\n",
        "\n",
        "If you are running in colab, you should install the dependencies and download the dataset by running the following cell:"
      ]
    },
    {
      "cell_type": "code",
      "execution_count": 1,
      "metadata": {
        "id": "tHDn4fb3--qg",
        "colab": {
          "base_uri": "https://localhost:8080/"
        },
        "outputId": "7a100e09-e67a-4dda-dd0c-2b99b7507c50"
      },
      "outputs": [
        {
          "output_type": "stream",
          "name": "stdout",
          "text": [
            "Looking in indexes: https://pypi.org/simple, https://us-python.pkg.dev/colab-wheels/public/simple/\n",
            "Requirement already satisfied: torch in /usr/local/lib/python3.7/dist-packages (1.12.1+cu113)\n",
            "Requirement already satisfied: scikit-learn==0.20.* in /usr/local/lib/python3.7/dist-packages (0.20.4)\n",
            "Requirement already satisfied: skorch in /usr/local/lib/python3.7/dist-packages (0.11.0)\n",
            "Requirement already satisfied: numpy>=1.8.2 in /usr/local/lib/python3.7/dist-packages (from scikit-learn==0.20.*) (1.21.6)\n",
            "Requirement already satisfied: scipy>=0.13.3 in /usr/local/lib/python3.7/dist-packages (from scikit-learn==0.20.*) (1.7.3)\n",
            "Requirement already satisfied: typing-extensions in /usr/local/lib/python3.7/dist-packages (from torch) (4.1.1)\n",
            "Requirement already satisfied: tqdm>=4.14.0 in /usr/local/lib/python3.7/dist-packages (from skorch) (4.64.0)\n",
            "Requirement already satisfied: tabulate>=0.7.7 in /usr/local/lib/python3.7/dist-packages (from skorch) (0.8.10)\n"
          ]
        }
      ],
      "source": [
        "! [ ! -z \"$COLAB_GPU\" ] && pip install torch scikit-learn==0.20.* skorch"
      ]
    },
    {
      "cell_type": "code",
      "execution_count": 2,
      "metadata": {
        "id": "VZiqCkU3--qi",
        "colab": {
          "base_uri": "https://localhost:8080/"
        },
        "outputId": "39ce2275-0f7f-475c-d12c-407fd0e026fe"
      },
      "outputs": [
        {
          "output_type": "stream",
          "name": "stderr",
          "text": [
            "/usr/local/lib/python3.7/dist-packages/sklearn/feature_extraction/image.py:167: DeprecationWarning: `np.int` is a deprecated alias for the builtin `int`. To silence this warning, use `int` by itself. Doing this will not modify any behavior and is safe. When replacing `np.int`, you may wish to use e.g. `np.int64` or `np.int32` to specify the precision. If you wish to review your current use, check the release note link for additional information.\n",
            "Deprecated in NumPy 1.20; for more details and guidance: https://numpy.org/devdocs/release/1.20.0-notes.html#deprecations\n",
            "  dtype=np.int):\n"
          ]
        }
      ],
      "source": [
        "from sklearn.metrics.cluster.supervised import fowlkes_mallows_score\n",
        "from sklearn.datasets import fetch_openml\n",
        "from sklearn.model_selection import train_test_split\n",
        "import numpy as np\n",
        "import matplotlib.pyplot as plt\n",
        "\n",
        "from warnings import filterwarnings\n",
        "filterwarnings(\"ignore\")    #category=DeprecationWarning, message='is a deprecated alias'\n",
        "\n",
        "useSparseNetwork = True\n",
        "if(useSparseNetwork):\n",
        "    paralleliseSparseProcessing = True   #parallel processing of sparse filters using Conv1d/Conv2d groups parameter\n",
        "    if(paralleliseSparseProcessing):\n",
        "        paralleliseSparseProcessingPrintTime = False\n",
        "        if(paralleliseSparseProcessingPrintTime):\n",
        "            start = torch.cuda.Event(enable_timing=True)\n",
        "            end = torch.cuda.Event(enable_timing=True)\n",
        "    \n",
        "    numberOfEpochsMLP = 1   #default: 10\n",
        "    numberOfEpochsCNN = 1   #default: 10\n",
        "    numberOfSparseLayersCNN = 2 #default: 1 (1 or 2)\n",
        "    numberOfSparseLayersMLP = 2 #default: 1 (1 or 2)\n",
        "else:\n",
        "    numberOfEpochsMLP = 1   #default: 20\n",
        "    numberOfEpochsCNN = 1   #default: 10\n",
        "    numberOfSparseLayersCNN = 1 #default: 1 #additional dense hidden layers\n",
        "    numberOfSparseLayersMLP = 1 #default: 0 #additional dense hidden layers\n",
        "\n",
        "#set Runtime type = high RAM\n",
        "#numberOfchannelsFirstDenseLayer: max value determined by numberOfSparseLayers, GPU RAM (independent of batchSize)\n",
        "\n",
        "#first/dense MLP layer;\n",
        "if(numberOfSparseLayersMLP == 0):\n",
        "    numberOfchannelsFirstDenseLayerMLP = 100\t#hidden_dim\n",
        "    batchSizeMLP = 1024 #128\n",
        "elif(numberOfSparseLayersMLP == 1):\n",
        "    numberOfchannelsFirstDenseLayerMLP = 100\n",
        "    batchSizeMLP = 1024 #128\n",
        "elif(numberOfSparseLayersMLP == 2):\n",
        "    numberOfchannelsFirstDenseLayerMLP = 20 #2\n",
        "    batchSizeMLP = 1024 #128\n",
        "else:\n",
        "    print(\"useSparseNetwork warning: numberOfSparseLayersMLP is too high for compute/memory\")\n",
        "    numberOfchannelsFirstDenseLayerMLP = 2\n",
        "    batchSizeMLP = 16\n",
        "    \n",
        "#first/dense CNN layer;\n",
        "if(numberOfSparseLayersCNN == 0):\n",
        "    numberOfchannelsFirstDenseLayerCNN = 32\n",
        "    batchSizeCNN = 4096    #1024\n",
        "elif(numberOfSparseLayersCNN == 1):\n",
        "    numberOfchannelsFirstDenseLayerCNN = 32\n",
        "    batchSizeCNN = 4096    #1024\n",
        "elif(numberOfSparseLayersCNN == 2):\n",
        "    numberOfchannelsFirstDenseLayerCNN = 8\n",
        "    batchSizeCNN = 4096    #1024\n",
        "else:\n",
        "    print(\"useSparseNetwork warning: numberOfSparseLayersCNN is too high for compute/memory\")\n",
        "    numberOfchannelsFirstDenseLayerCNN = 2\n",
        "    batchSizeCNN = 16\n",
        "\n",
        "learningAlgorithmLUANN = False\n",
        "onlyTrainFinalLayer = False #initialise dependent var\n",
        "if(learningAlgorithmLUANN):\n",
        "    onlyTrainFinalLayer = True"
      ]
    },
    {
      "cell_type": "markdown",
      "source": [
        "## Sparse Layer Processing\n"
      ],
      "metadata": {
        "id": "n395XVMIzfhK"
      }
    },
    {
      "cell_type": "code",
      "source": [
        "class SparseLayerProcessing():\n",
        "    def __init__(self, isCNNmodel, numberOfSparseLayers, layerDropout, numberOfchannelsFirstDenseLayer, kernelSize=None, padding=None, stride=None, maxPoolSize=None):\n",
        "\n",
        "        self.isCNNmodel = isCNNmodel\n",
        "\n",
        "        self.numberOfSparseLayers = numberOfSparseLayers\n",
        "        self.layerDropout = layerDropout\n",
        "        self.numberOfchannelsFirstDenseLayer = numberOfchannelsFirstDenseLayer\n",
        "        self.sparseLayerList = [None]*self.numberOfSparseLayers\n",
        "\n",
        "        if(isCNNmodel):\n",
        "            self.kernelSize = kernelSize\n",
        "            self.padding = padding\n",
        "            self.stride = stride\n",
        "            self.maxPoolSize = maxPoolSize\n",
        "\n",
        "    def generateSparseLayers(self, numberOfchannels, height=None, width=None):\n",
        "        for layerIndex in range(self.numberOfSparseLayers):\n",
        "            #print(\"layerIndex = \", layerIndex)\n",
        "            if(useSparseNetwork):\n",
        "                layer, numberOfchannels = self.generateSparseLayer(numberOfchannels)\n",
        "                self.sparseLayerList[layerIndex] = layer\n",
        "                if(self.isCNNmodel):\n",
        "                    height, width = self.getImageDimensionsAfterConv(height, width, self.kernelSize, self.padding, self.stride, self.maxPoolSize)\n",
        "            else:\n",
        "                #only used by CNN originally:\n",
        "                numberOfInputChannels = numberOfchannels\n",
        "                numberOfOutputChannels = numberOfchannels*2\n",
        "                layer = self.generateLayerStandard(numberOfchannels, numberOfOutputChannels)\n",
        "                self.sparseLayerList[layerIndex] = layer\n",
        "                numberOfchannels = numberOfOutputChannels\n",
        "                if(self.isCNNmodel):\n",
        "                    height, width = self.getImageDimensionsAfterConv(height, width, self.kernelSize, self.padding, self.stride, self.maxPoolSize)\n",
        "                \n",
        "        return numberOfchannels, height, width\n",
        "\n",
        "    def generateSparseLayer(self, numberOfchannels):\n",
        "        numChannelPairs = self.calculateNumberChannelPairs(numberOfchannels)\n",
        "        #print(\"numberOfchannels = \", numberOfchannels)\n",
        "        #print(\"numChannelPairs = \", numChannelPairs)\n",
        "        numberOfInputChannels = 2\n",
        "        numberOfOutputChannels = 1\n",
        "        if(paralleliseSparseProcessing):\n",
        "            layer = self.generateSparseLayerParallel(numChannelPairs, numberOfInputChannels, numberOfOutputChannels)\n",
        "        else:\n",
        "            layer = self.generateSparseLayerStandard(numChannelPairs, numberOfInputChannels, numberOfOutputChannels)\n",
        "        numberOfchannels = numChannelPairs*numberOfOutputChannels\n",
        "        return layer, numberOfchannels\n",
        "    def generateSparseLayerStandard(self, numChannelPairs, numberOfInputChannels, numberOfOutputChannels):\n",
        "        sparseSublayerList = []\n",
        "        for channelPairIndex in range(numChannelPairs):\n",
        "            sublayer = self.generateLayerStandard(numberOfInputChannels, numberOfOutputChannels)\n",
        "            sparseSublayerList.append(sublayer)\n",
        "        return sparseSublayerList\n",
        "    def generateSparseLayerParallel(self, numChannelPairs, numberOfInputChannels, numberOfOutputChannels):\n",
        "        layer = self.generateLayerParallel(numChannelPairs, numberOfInputChannels, numberOfOutputChannels)\n",
        "        return layer\n",
        "\n",
        "    def generateLayerParallel(self, numChannelPairs, numberOfInputChannels, numberOfOutputChannels):\n",
        "        if(self.isCNNmodel):\n",
        "            return self.generateLayerParallelCNN(numChannelPairs, numberOfInputChannels, numberOfOutputChannels)\n",
        "        else:\n",
        "            return self.generateLayerParallelMLP(numChannelPairs, numberOfInputChannels, numberOfOutputChannels)\n",
        "    def generateLayerParallelMLP(self, numChannelPairs, numberOfInputChannels, numberOfOutputChannels):\n",
        "        #https://stackoverflow.com/questions/58374980/run-multiple-models-of-an-ensemble-in-parallel-with-pytorch/58389075#58389075\n",
        "        layer = nn.Conv1d(numberOfInputChannels*numChannelPairs, numberOfOutputChannels*numChannelPairs, kernel_size=1, groups=numChannelPairs)\n",
        "        return layer\n",
        "    def generateLayerParallelCNN(self, numChannelPairs, numberOfInputChannels, numberOfOutputChannels):\n",
        "        conv2DnumberSubChannels = numberOfInputChannels*numChannelPairs\n",
        "        layer = nn.Conv2d(conv2DnumberSubChannels, conv2DnumberSubChannels, kernel_size=self.kernelSize, padding=self.padding, stride=self.stride, groups=conv2DnumberSubChannels)\n",
        "        return layer\n",
        "\n",
        "    def generateLayerStandard(self, numberOfInputChannels, numberOfOutputChannels):\n",
        "        if(self.isCNNmodel):\n",
        "            return self.generateLayerStandardCNN(numberOfInputChannels, numberOfOutputChannels)\n",
        "        else:\n",
        "            return self.generateLayerStandardMLP(numberOfInputChannels, numberOfOutputChannels)\n",
        "    def generateLayerStandardMLP(self, numberOfInputChannels, numberOfOutputChannels):\n",
        "        layer = nn.Linear(numberOfInputChannels, numberOfOutputChannels)\n",
        "        return layer\n",
        "    def generateLayerStandardCNN(self, numberOfInputChannels, numberOfOutputChannels):\n",
        "        layer = nn.Conv2d(numberOfInputChannels, numberOfOutputChannels, kernel_size=self.kernelSize, padding=self.padding, stride=self.stride)\n",
        "        return layer\n",
        "\n",
        "    def executeSparseLayers(self, X):\n",
        "        numberOfchannels = self.numberOfchannelsFirstDenseLayer\n",
        "        for layerIndex in range(self.numberOfSparseLayers):\n",
        "            if(useSparseNetwork):\n",
        "                layerZ, numberOfchannels = self.executeSparseLayer(layerIndex, X, numberOfchannels)\n",
        "            else:\n",
        "                layerIn = X\n",
        "                layerZ = (self.sparseLayerList[layerIndex])(layerIn)\n",
        "            layerOut = self.activationFunction(layerZ)\n",
        "            X = layerOut\n",
        "        return X\n",
        "    \n",
        "    def executeSparseLayer(self, layerIndex, X, numberOfchannels):\n",
        "        numChannelPairs = self.calculateNumberChannelPairs(numberOfchannels)\n",
        "        numberOfInputChannels = 2\n",
        "        numberOfOutputChannels = 1\n",
        "        channelsPairsList = self.convertToChannelsToChannelPairsList(X)\n",
        "        if(paralleliseSparseProcessing):\n",
        "            layerZ = self.executeSparseLayerParallel(layerIndex, channelsPairsList, numChannelPairs)\n",
        "        else:\n",
        "            layerZ = self.executeSparseLayerStandard(layerIndex, channelsPairsList, numChannelPairs)\n",
        "        numberOfchannels = numChannelPairs*numberOfOutputChannels\n",
        "        return layerZ, numberOfchannels\n",
        "    def executeSparseLayerStandard(self, layerIndex, channelsPairsList, numChannelPairs):\n",
        "        channelPairSublayerOutputList = []\n",
        "        for channelPairIndex in range(numChannelPairs):\n",
        "            sublayerIn = channelsPairsList[channelPairIndex]\n",
        "            sublayerOut = (self.sparseLayerList[layerIndex])[channelPairIndex](sublayerIn)\n",
        "            sublayerOut = torch.squeeze(sublayerOut, dim=1)   #remove channel dim (size=numberOfOutputChannels=1); prepare for convertChannelPairLINoutputListToChannels execution\n",
        "            channelPairSublayerOutputList.append(sublayerOut)\n",
        "        layerZ = self.convertChannelPairSublayerOutputListToChannels(channelPairSublayerOutputList)\n",
        "        return layerZ\n",
        "    def executeSparseLayerParallel(self, layerIndex, channelsPairsList, numChannelPairs):\n",
        "        firstTensorInList = channelsPairsList[0]    #shape = [batchSize, numberOfInputChannels, ..]\n",
        "        print(\"executeSparseLayerParallel: layerIndex = \", layerIndex, \", firstTensorInList.shape = \", firstTensorInList.shape, \", numChannelPairs = \", numChannelPairs)\n",
        "        tensorPropertiesTuple = self.getSublayerTensorProperties(firstTensorInList)   #get properties from first tensor in list\n",
        "        #numChannelPairs = len(channelsPairsList)\n",
        "        channelsPairs = torch.stack(channelsPairsList, dim=1)   #shape = [batchSize, numChannelPairs, numberOfInputChannels, ..]\n",
        "        if(self.isCNNmodel):\n",
        "            if(paralleliseSparseProcessingPrintTime):\n",
        "                start.record()\n",
        "            (batchSize, numberOfInputChannels, height, width) = tensorPropertiesTuple\n",
        "            conv2DnumberSubChannels = numberOfInputChannels*numChannelPairs\n",
        "            layerIn = torch.reshape(channelsPairs, (batchSize, numChannelPairs*numberOfInputChannels, height, width))\n",
        "            layerZ = (self.sparseLayerList[layerIndex])(layerIn)  #channels convoluted separately (in separate groups)\n",
        "            height, width = self.getImageDimensionsAfterConv(height, width, self.kernelSize, self.padding, self.stride, 1)  #no max pool has been performed\n",
        "            layerZ = torch.reshape(layerZ, (batchSize, numChannelPairs, numberOfInputChannels, height, width))\n",
        "            layerZ = torch.sum(layerZ, dim=2)  #take sum of numberOfInputChannels (emulates element-wise sum as performed by CNN with groups=1)\n",
        "            if(paralleliseSparseProcessingPrintTime):\n",
        "                end.record()\n",
        "                torch.cuda.synchronize()\n",
        "                print(start.elapsed_time(end))\n",
        "        else:\n",
        "            (batchSize, numberOfInputChannels) = tensorPropertiesTuple\n",
        "            #https://stackoverflow.com/questions/58374980/run-multiple-models-of-an-ensemble-in-parallel-with-pytorch/58389075#58389075\n",
        "            layerIn = torch.reshape(channelsPairs, (batchSize, numChannelPairs*numberOfInputChannels, 1))\n",
        "            layerZ = (self.sparseLayerList[layerIndex])(layerIn)\n",
        "            layerZ = torch.reshape(layerZ, (batchSize, numChannelPairs))\n",
        "        print(\"executeSparseLayerParallel: layerZ.shape = \", layerZ.shape)\n",
        "        #layerZ shape = [batchSize, numChannelPairs, ..]\n",
        "        return layerZ\n",
        "\n",
        "    def activationFunction(self, Z, useDropOut=True):\n",
        "        if(self.isCNNmodel):\n",
        "            return self.activationFunctionCNN(Z, useDropOut)\n",
        "        else:\n",
        "            return self.activationFunctionMLP(Z, useDropOut)\n",
        "    def activationFunctionMLP(self, Z, useDropOut=True):\n",
        "        A = F.relu(Z)\n",
        "        if(useDropOut):\n",
        "            A = self.layerDropout(A)\n",
        "        return A\n",
        "    def activationFunctionCNN(self, Z, useDropOut=True):\n",
        "        if(useDropOut):\n",
        "            Z = self.layerDropout(Z)\n",
        "        A = torch.relu(F.max_pool2d(Z, kernel_size=self.maxPoolSize))\n",
        "        return A\n",
        "\n",
        "    def calculateNumberChannelPairs(self, numInputChannels):\n",
        "        numChannelPairs = numInputChannels**2\n",
        "        return numChannelPairs\n",
        "        #numOutputChannels = number of filters\n",
        "\n",
        "    def convertToChannelsToChannelPairsList(self, channels):\n",
        "        tensorPropertiesTuple = self.getSublayerTensorProperties(channels)\n",
        "        batchSize = tensorPropertiesTuple[0]\n",
        "        numberOfchannels = tensorPropertiesTuple[1]\n",
        "        numChannelPairs = self.calculateNumberChannelPairs(numberOfchannels)\n",
        "        channelsPairsList = []\n",
        "        for channelIndex1 in range(numberOfchannels):\n",
        "            for channelIndex2 in range(numberOfchannels):\n",
        "                channelPairIndex = channelIndex1*numChannelPairs + channelIndex2\n",
        "                channelPairSub1 = channels[:, channelIndex1]  #channels[:, channelIndex1, :]\n",
        "                channelPairSub2 = channels[:, channelIndex2]  #channels[:, channelIndex2, :]\n",
        "                channelPairSub1 = torch.unsqueeze(channelPairSub1, dim=1)\n",
        "                channelPairSub2 = torch.unsqueeze(channelPairSub2, dim=1)\n",
        "                channelPair = torch.cat((channelPairSub1, channelPairSub2), dim=1)\n",
        "                channelsPairsList.append(channelPair)\n",
        "        return channelsPairsList\n",
        "\n",
        "    def getSublayerTensorProperties(self, channels):\n",
        "        if(self.isCNNmodel):\n",
        "            return self.getCNNtensorProperties(channels)\n",
        "        else:\n",
        "            return self.getMLPtensorProperties(channels)\n",
        "    def getMLPtensorProperties(self, channels):\n",
        "        batchSize = channels.shape[0]\n",
        "        numberOfchannels = channels.shape[1]\n",
        "        tensorPropertiesTuple = (batchSize, numberOfchannels)\n",
        "        return tensorPropertiesTuple\n",
        "    def getCNNtensorProperties(self, channels):\n",
        "        batchSize = channels.shape[0]\n",
        "        numberOfchannels = channels.shape[1]\n",
        "        height = channels.shape[2]\n",
        "        width = channels.shape[3]\n",
        "        tensorPropertiesTuple = (batchSize, numberOfchannels, height, width)\n",
        "        return tensorPropertiesTuple\n",
        "\n",
        "    def convertChannelPairSublayerOutputListToChannels(self, channelPairSublayerOutputList):\n",
        "        layerZ = torch.stack(channelPairSublayerOutputList, dim=1)\n",
        "        return layerZ\n",
        "\n",
        "    def getImageDimensionsAfterConv(self, inputHeight, inputWidth, kernelSize, padding, stride, maxPoolSize):\n",
        "        height = (inputHeight - (kernelSize//2 * 2) + padding) // stride // maxPoolSize    #// = integer floor division\n",
        "        width = (inputWidth - (kernelSize//2 * 2) + padding) // stride // maxPoolSize\n",
        "        return height, width"
      ],
      "metadata": {
        "id": "GHaWEFCRzluS"
      },
      "execution_count": 3,
      "outputs": []
    },
    {
      "cell_type": "markdown",
      "metadata": {
        "id": "UhsLIZfg--qk"
      },
      "source": [
        "## Loading Data\n",
        "Using SciKit-Learns ```fetch_openml``` to load MNIST data."
      ]
    },
    {
      "cell_type": "code",
      "execution_count": 4,
      "metadata": {
        "id": "OHo3HR4P--qm"
      },
      "outputs": [],
      "source": [
        "mnist = fetch_openml('mnist_784', cache=False)"
      ]
    },
    {
      "cell_type": "code",
      "execution_count": 5,
      "metadata": {
        "id": "yK-oE30K--qn",
        "colab": {
          "base_uri": "https://localhost:8080/"
        },
        "outputId": "01f440ea-1e61-4c5f-88e5-cce1d6b9a78f"
      },
      "outputs": [
        {
          "output_type": "execute_result",
          "data": {
            "text/plain": [
              "(70000, 784)"
            ]
          },
          "metadata": {},
          "execution_count": 5
        }
      ],
      "source": [
        "mnist.data.shape"
      ]
    },
    {
      "cell_type": "markdown",
      "metadata": {
        "id": "iBecc6yQ--qp"
      },
      "source": [
        "## Preprocessing Data\n",
        "\n",
        "Each image of the MNIST dataset is encoded in a 784 dimensional vector, representing a 28 x 28 pixel image. Each pixel has a value between 0 and 255, corresponding to the grey-value of a pixel.<br />\n",
        "The above ```featch_mldata``` method to load MNIST returns ```data``` and ```target``` as ```uint8``` which we convert to ```float32``` and ```int64``` respectively."
      ]
    },
    {
      "cell_type": "code",
      "execution_count": 6,
      "metadata": {
        "id": "hWTDRrfA--qq"
      },
      "outputs": [],
      "source": [
        "X = mnist.data.astype('float32')\n",
        "y = mnist.target.astype('int64')"
      ]
    },
    {
      "cell_type": "markdown",
      "metadata": {
        "id": "SBMFueA9--qs"
      },
      "source": [
        "To avoid big weights that deal with the pixel values from between [0, 255], we scale `X` down. A commonly used range is [0, 1]."
      ]
    },
    {
      "cell_type": "code",
      "execution_count": 7,
      "metadata": {
        "id": "BF6q-259--qt"
      },
      "outputs": [],
      "source": [
        "X /= 255.0"
      ]
    },
    {
      "cell_type": "code",
      "execution_count": 8,
      "metadata": {
        "id": "3gkoxPMQ--qu",
        "colab": {
          "base_uri": "https://localhost:8080/"
        },
        "outputId": "5725edc0-b703-44e0-c49b-4866f128a551"
      },
      "outputs": [
        {
          "output_type": "execute_result",
          "data": {
            "text/plain": [
              "(0.0, 1.0)"
            ]
          },
          "metadata": {},
          "execution_count": 8
        }
      ],
      "source": [
        "X.min(), X.max()"
      ]
    },
    {
      "cell_type": "markdown",
      "metadata": {
        "id": "kOgDy8AC--qu"
      },
      "source": [
        "Note: data is not normalized."
      ]
    },
    {
      "cell_type": "code",
      "execution_count": 9,
      "metadata": {
        "id": "Uk5cZ7iQ--qv"
      },
      "outputs": [],
      "source": [
        "X_train, X_test, y_train, y_test = train_test_split(X, y, test_size=0.25, random_state=42)"
      ]
    },
    {
      "cell_type": "code",
      "execution_count": 10,
      "metadata": {
        "id": "JdzB7Jnn--qw"
      },
      "outputs": [],
      "source": [
        "assert(X_train.shape[0] + X_test.shape[0] == mnist.data.shape[0])"
      ]
    },
    {
      "cell_type": "code",
      "execution_count": 11,
      "metadata": {
        "id": "BpeDtsDy--qw",
        "colab": {
          "base_uri": "https://localhost:8080/"
        },
        "outputId": "2d5edc24-23e6-448b-8a45-18e44206be14"
      },
      "outputs": [
        {
          "output_type": "execute_result",
          "data": {
            "text/plain": [
              "((52500, 784), (52500,))"
            ]
          },
          "metadata": {},
          "execution_count": 11
        }
      ],
      "source": [
        "X_train.shape, y_train.shape"
      ]
    },
    {
      "cell_type": "markdown",
      "metadata": {
        "id": "R_EJvc00--qx"
      },
      "source": [
        "### Print a selection of training images and their labels"
      ]
    },
    {
      "cell_type": "code",
      "execution_count": 12,
      "metadata": {
        "id": "z3urGwj5--qx"
      },
      "outputs": [],
      "source": [
        "def plot_example(X, y):\n",
        "    \"\"\"Plot the first 5 images and their labels in a row.\"\"\"\n",
        "    for i, (img, y) in enumerate(zip(X[:5].reshape(5, 28, 28), y[:5])):\n",
        "        plt.subplot(151 + i)\n",
        "        plt.imshow(img)\n",
        "        plt.xticks([])\n",
        "        plt.yticks([])\n",
        "        plt.title(y)"
      ]
    },
    {
      "cell_type": "code",
      "execution_count": 13,
      "metadata": {
        "id": "WCLy7ZXl--qy",
        "colab": {
          "base_uri": "https://localhost:8080/",
          "height": 108
        },
        "outputId": "cbb2a80b-4477-47c7-e8d5-986cd1dbaf1e"
      },
      "outputs": [
        {
          "output_type": "display_data",
          "data": {
            "text/plain": [
              "<Figure size 432x288 with 5 Axes>"
            ],
            "image/png": "[encoded data removed]"
          },
          "metadata": {}
        }
      ],
      "source": [
        "plot_example(X_train, y_train)"
      ]
    },
    {
      "cell_type": "markdown",
      "metadata": {
        "id": "9lOkB3Dm--qy"
      },
      "source": [
        "## Build Neural Network with PyTorch\n",
        "Simple, fully connected neural network with one hidden layer. Input layer has 784 dimensions (28x28), hidden layer has 98 (= 784 / 8) and output layer 10 neurons, representing digits 0 - 9."
      ]
    },
    {
      "cell_type": "code",
      "execution_count": 14,
      "metadata": {
        "id": "8YysBfKi--qy"
      },
      "outputs": [],
      "source": [
        "import torch\n",
        "from torch import nn\n",
        "import torch.nn.functional as F"
      ]
    },
    {
      "cell_type": "code",
      "execution_count": 15,
      "metadata": {
        "id": "3OmjGef_--qz"
      },
      "outputs": [],
      "source": [
        "device = 'cuda' if torch.cuda.is_available() else 'cpu'"
      ]
    },
    {
      "cell_type": "code",
      "execution_count": 16,
      "metadata": {
        "id": "33lwxpxN--qz"
      },
      "outputs": [],
      "source": [
        "mnist_dim = X.shape[1]\n",
        "hidden_dim = int(mnist_dim/8)\n",
        "output_dim = len(np.unique(mnist.target))"
      ]
    },
    {
      "cell_type": "code",
      "execution_count": 17,
      "metadata": {
        "id": "0Dr2f4g9--q0",
        "colab": {
          "base_uri": "https://localhost:8080/"
        },
        "outputId": "ad551c44-b874-48cf-9157-22420e202cd3"
      },
      "outputs": [
        {
          "output_type": "execute_result",
          "data": {
            "text/plain": [
              "(784, 98, 10)"
            ]
          },
          "metadata": {},
          "execution_count": 17
        }
      ],
      "source": [
        "mnist_dim, hidden_dim, output_dim"
      ]
    },
    {
      "cell_type": "markdown",
      "metadata": {
        "id": "0mHnjijo--q0"
      },
      "source": [
        "A Neural network in PyTorch's framework."
      ]
    },
    {
      "cell_type": "code",
      "execution_count": 18,
      "metadata": {
        "id": "uC311xvO--q0"
      },
      "outputs": [],
      "source": [
        "class MLPModel(nn.Module):\n",
        "    def __init__(self, input_dim=mnist_dim, hidden_dim=hidden_dim, output_dim=output_dim, dropout=0.5):\n",
        "        super(MLPModel, self).__init__()\n",
        "\n",
        "        self.isCNNmodel = False\n",
        "\n",
        "        self.dropout = nn.Dropout(dropout)\n",
        "\n",
        "        #print(\"hidden_dim = \", hidden_dim)\n",
        "        self.numberOfSparseLayers = numberOfSparseLayersMLP   #default: 1 (1 or 2)\n",
        "        self.numberOfchannelsFirstDenseLayer = numberOfchannelsFirstDenseLayerMLP\n",
        "\n",
        "        numberOfchannels = self.numberOfchannelsFirstDenseLayer \n",
        "\n",
        "        self.linear1 = nn.Linear(input_dim, numberOfchannels)  #first/dense linear layer \n",
        "\n",
        "        self.sparseLayerProcessing = SparseLayerProcessing(self.isCNNmodel, self.numberOfSparseLayers, self.dropout, self.numberOfchannelsFirstDenseLayer)\n",
        "\n",
        "        numberOfchannels, _, _ = self.sparseLayerProcessing.generateSparseLayers(numberOfchannels)\n",
        "\n",
        "        self.output = nn.Linear(numberOfchannels, output_dim)\n",
        "\n",
        "    def forward(self, x, **kwargs):\n",
        "\n",
        "        #first/dense linear layer\n",
        "        x = self.linear1(x)\n",
        "        x = self.sparseLayerProcessing.activationFunction(x)\n",
        "\n",
        "        x = self.sparseLayerProcessing.executeSparseLayers(x)\n",
        "\n",
        "        if(onlyTrainFinalLayer):\n",
        "            x = x.detach()\n",
        "\n",
        "        x = F.softmax(self.output(x), dim=-1)\n",
        "\n",
        "        return x\n",
        "\n"
      ]
    },
    {
      "cell_type": "markdown",
      "metadata": {
        "id": "-30HWZ-g--q1"
      },
      "source": [
        "skorch allows to use PyTorch's networks in the SciKit-Learn setting:"
      ]
    },
    {
      "cell_type": "code",
      "execution_count": 19,
      "metadata": {
        "id": "AicBGdq0--q1"
      },
      "outputs": [],
      "source": [
        "from skorch import NeuralNetClassifier"
      ]
    },
    {
      "cell_type": "code",
      "execution_count": 20,
      "metadata": {
        "id": "uBYpucG0--q2"
      },
      "outputs": [],
      "source": [
        "torch.manual_seed(0)\n",
        "\n",
        "net = NeuralNetClassifier(\n",
        "    MLPModel,\n",
        "    max_epochs=numberOfEpochsMLP,\n",
        "    lr=0.1,\n",
        "    device=device,\n",
        "    batch_size=batchSizeMLP,\n",
        ")"
      ]
    },
    {
      "cell_type": "code",
      "execution_count": null,
      "metadata": {
        "id": "DfUx7jMR--q2"
      },
      "outputs": [],
      "source": [
        "net.fit(X_train, y_train)"
      ]
    },
    {
      "cell_type": "markdown",
      "metadata": {
        "id": "DjgE-Uto--q2"
      },
      "source": [
        "## Prediction"
      ]
    },
    {
      "cell_type": "code",
      "execution_count": 22,
      "metadata": {
        "id": "QJMblY39--q3"
      },
      "outputs": [],
      "source": [
        "from sklearn.metrics import accuracy_score"
      ]
    },
    {
      "cell_type": "code",
      "execution_count": null,
      "metadata": {
        "id": "lLD7E8KR--q3"
      },
      "outputs": [],
      "source": [
        "y_pred = net.predict(X_test)"
      ]
    },
    {
      "cell_type": "code",
      "execution_count": null,
      "metadata": {
        "id": "_dCUHN_p--q3"
      },
      "outputs": [],
      "source": [
        "accuracy_score(y_test, y_pred)"
      ]
    },
    {
      "cell_type": "markdown",
      "metadata": {
        "id": "bXLcdqbN--q4"
      },
      "source": [
        "An accuracy of about 96% for a network with only one hidden layer is not too bad.\n",
        "\n",
        "Let's take a look at some predictions that went wrong:"
      ]
    },
    {
      "cell_type": "code",
      "execution_count": null,
      "metadata": {
        "id": "Tin-L-ui--q4"
      },
      "outputs": [],
      "source": [
        "error_mask = y_pred != y_test"
      ]
    },
    {
      "cell_type": "code",
      "execution_count": null,
      "metadata": {
        "id": "XmRLxBgM--q4"
      },
      "outputs": [],
      "source": [
        "plot_example(X_test[error_mask], y_pred[error_mask])"
      ]
    },
    {
      "cell_type": "markdown",
      "metadata": {
        "id": "XQ9yogDR--q5"
      },
      "source": [
        "# Convolutional Network\n",
        "PyTorch expects a 4 dimensional tensor as input for its 2D convolution layer. The dimensions represent:\n",
        "* Batch size\n",
        "* Number of channel\n",
        "* Height\n",
        "* Width\n",
        "\n",
        "As initial batch size the number of examples needs to be provided. MNIST data has only one channel. As stated above, each MNIST vector represents a 28x28 pixel image. Hence, the resulting shape for PyTorch tensor needs to be (x, 1, 28, 28). "
      ]
    },
    {
      "cell_type": "code",
      "execution_count": null,
      "metadata": {
        "id": "446TDdHV--q5"
      },
      "outputs": [],
      "source": [
        "XCnn = X.reshape(-1, 1, 28, 28)"
      ]
    },
    {
      "cell_type": "code",
      "execution_count": null,
      "metadata": {
        "id": "1kwClR2Q--q6"
      },
      "outputs": [],
      "source": [
        "XCnn.shape"
      ]
    },
    {
      "cell_type": "code",
      "execution_count": null,
      "metadata": {
        "id": "XgYFsGJ7--q6"
      },
      "outputs": [],
      "source": [
        "XCnn_train, XCnn_test, y_train, y_test = train_test_split(XCnn, y, test_size=0.25, random_state=42)"
      ]
    },
    {
      "cell_type": "code",
      "execution_count": null,
      "metadata": {
        "id": "tNJJXx4h--q6"
      },
      "outputs": [],
      "source": [
        "XCnn_train.shape, y_train.shape"
      ]
    },
    {
      "cell_type": "code",
      "execution_count": null,
      "metadata": {
        "id": "OXnsFnJf--q7"
      },
      "outputs": [],
      "source": [
        "class CNNModel(nn.Module):\n",
        "    def __init__(self, dropout=0.5):\n",
        "        super(CNNModel, self).__init__()\n",
        "\n",
        "        self.isCNNmodel = True\n",
        "\n",
        "        height = 28 #MNIST defined\n",
        "        width = 28  #MNIST defined\n",
        "        self.kernelSize = 3\n",
        "        self.padding = 0\n",
        "        self.stride = 1\n",
        "        self.maxPoolSize = 2 #assume max pool at each layer\n",
        "\n",
        "        self.conv2_drop = nn.Dropout2d(p=dropout)\n",
        "\n",
        "        self.numberOfSparseLayers = numberOfSparseLayersCNN #default: 1 (1 or 2)\n",
        "        self.numberOfchannelsFirstDenseLayer = numberOfchannelsFirstDenseLayerCNN\n",
        "\n",
        "        numberOfchannels = self.numberOfchannelsFirstDenseLayer  \n",
        "        self.conv1 = nn.Conv2d(1, numberOfchannels, kernel_size=self.kernelSize, padding=self.padding, stride=self.stride)  #first/dense linear layer\n",
        "\n",
        "        self.sparseLayerProcessing = SparseLayerProcessing(self.isCNNmodel, self.numberOfSparseLayers, self.conv2_drop, self.numberOfchannelsFirstDenseLayer, kernelSize=self.kernelSize, padding=self.padding, stride=self.stride, maxPoolSize=self.maxPoolSize)\n",
        "        \n",
        "        height, width = self.sparseLayerProcessing.getImageDimensionsAfterConv(height, width, self.kernelSize, self.padding, self.stride, self.maxPoolSize)\n",
        "        numberOfchannels, width, height = self.sparseLayerProcessing.generateSparseLayers(numberOfchannels, height, width)\n",
        "\n",
        "        firstLinearInputSize = numberOfchannels*width*height\n",
        "\n",
        "        self.fc1 = nn.Linear(firstLinearInputSize, 100)\n",
        "        self.fc2 = nn.Linear(100, 10)\n",
        "        self.fc1_drop = nn.Dropout(p=dropout)\n",
        "\n",
        "    def forward(self, x):\n",
        "\n",
        "        x = self.conv1(x)\n",
        "        x = self.sparseLayerProcessing.activationFunction(x, useDropOut=False)\n",
        "\n",
        "        x = self.sparseLayerProcessing.executeSparseLayers(x)\n",
        "\n",
        "        if(onlyTrainFinalLayer):\n",
        "            x = x.detach()\n",
        "\n",
        "        # flatten over channel, height and width\n",
        "        x = x.view(-1, x.size(1) * x.size(2) * x.size(3))\n",
        "\n",
        "        x = torch.relu(self.fc1_drop(self.fc1(x)))\n",
        "        x = torch.softmax(self.fc2(x), dim=-1)\n",
        "\n",
        "        return x\n",
        "     "
      ]
    },
    {
      "cell_type": "code",
      "execution_count": null,
      "metadata": {
        "id": "Hs3_lkRZ--q7"
      },
      "outputs": [],
      "source": [
        "torch.manual_seed(0)\n",
        "\n",
        "cnn = NeuralNetClassifier(\n",
        "    CNNModel,\n",
        "    max_epochs=numberOfEpochsCNN,\n",
        "    lr=0.002,\n",
        "    optimizer=torch.optim.Adam,\n",
        "    device=device,\n",
        "    batch_size=batchSizeCNN,\n",
        ")"
      ]
    },
    {
      "cell_type": "code",
      "execution_count": null,
      "metadata": {
        "id": "UykGA1k_--q7"
      },
      "outputs": [],
      "source": [
        "cnn.fit(XCnn_train, y_train)"
      ]
    },
    {
      "cell_type": "code",
      "execution_count": null,
      "metadata": {
        "id": "PNEhdJdW--q8"
      },
      "outputs": [],
      "source": [
        "y_pred_cnn = cnn.predict(XCnn_test)"
      ]
    },
    {
      "cell_type": "code",
      "execution_count": null,
      "metadata": {
        "id": "szmTFII6--q8"
      },
      "outputs": [],
      "source": [
        "accuracy_score(y_test, y_pred_cnn)"
      ]
    },
    {
      "cell_type": "markdown",
      "metadata": {
        "id": "KncVCQ7j--q9"
      },
      "source": [
        "An accuracy of >98% should suffice for this example!\n",
        "\n",
        "Let's see how we fare on the examples that went wrong before:"
      ]
    },
    {
      "cell_type": "code",
      "execution_count": null,
      "metadata": {
        "id": "_ACEkdhG--q9"
      },
      "outputs": [],
      "source": [
        "accuracy_score(y_test[error_mask], y_pred_cnn[error_mask])"
      ]
    },
    {
      "cell_type": "markdown",
      "metadata": {
        "id": "J83N6ubG--q9"
      },
      "source": [
        "Over 70% of the previously misclassified images are now correctly identified."
      ]
    },
    {
      "cell_type": "code",
      "execution_count": null,
      "metadata": {
        "id": "Xl1Jz5bg--q-"
      },
      "outputs": [],
      "source": [
        "plot_example(X_test[error_mask], y_pred_cnn[error_mask])"
      ]
    }
  ],
  "metadata": {
    "kernelspec": {
      "display_name": "Python 3",
      "language": "python",
      "name": "python3"
    },
    "language_info": {
      "codemirror_mode": {
        "name": "ipython",
        "version": 3
      },
      "file_extension": ".py",
      "mimetype": "text/x-python",
      "name": "python",
      "nbconvert_exporter": "python",
      "pygments_lexer": "ipython3",
      "version": "3.6.8"
    },
    "colab": {
      "provenance": [],
      "collapsed_sections": [],
      "machine_shape": "hm"
    },
    "gpuClass": "standard"
  },
  "nbformat": 4,
  "nbformat_minor": 0
}