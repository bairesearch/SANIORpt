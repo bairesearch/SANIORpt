{
  "cells": [
    {
      "cell_type": "markdown",
      "metadata": {
        "id": "wgG8HHxG--qS"
      },
      "source": [
        "# Sparse Network: MNIST with SciKit-Learn and skorch\n",
        "\n",
        "This notebooks shows how to define and train a simple Neural-Network with PyTorch and use it via skorch with SciKit-Learn.\n",
        "\n",
        "<table align=\"left\"><td>\n",
        "<a target=\"_blank\" href=\"https://colab.research.google.com/github/skorch-dev/skorch/blob/master/notebooks/MNIST.ipynb\">\n",
        "    <img src=\"https://www.tensorflow.org/images/colab_logo_32px.png\" />Run in Google Colab</a>  \n",
        "</td><td>\n",
        "<a target=\"_blank\" href=\"https://github.com/skorch-dev/skorch/blob/master/notebooks/MNIST.ipynb\"><img width=32px src=\"https://www.tensorflow.org/images/GitHub-Mark-32px.png\" />View source on GitHub</a></td></table>"
      ]
    },
    {
      "cell_type": "markdown",
      "metadata": {
        "id": "7kqyDzl0--qd"
      },
      "source": [
        "**Note**: If you are running this in [a colab notebook](https://colab.research.google.com/github/skorch-dev/skorch/blob/master/notebooks/MNIST.ipynb), we recommend you enable a free GPU by going:\n",
        "\n",
        "> **Runtime**   →   **Change runtime type**   →   **Hardware Accelerator: GPU**\n",
        "\n",
        "If you are running in colab, you should install the dependencies and download the dataset by running the following cell:"
      ]
    },
    {
      "cell_type": "code",
      "execution_count": 30,
      "metadata": {
        "id": "tHDn4fb3--qg",
        "colab": {
          "base_uri": "https://localhost:8080/"
        },
        "outputId": "312ab5ae-aac6-49f3-91f6-f05118a3f769"
      },
      "outputs": [
        {
          "output_type": "stream",
          "name": "stdout",
          "text": [
            "Looking in indexes: https://pypi.org/simple, https://us-python.pkg.dev/colab-wheels/public/simple/\n",
            "Requirement already satisfied: torch in /usr/local/lib/python3.7/dist-packages (1.12.1+cu113)\n",
            "Requirement already satisfied: scikit-learn==0.20.* in /usr/local/lib/python3.7/dist-packages (0.20.4)\n",
            "Requirement already satisfied: skorch in /usr/local/lib/python3.7/dist-packages (0.11.0)\n",
            "Requirement already satisfied: scipy>=0.13.3 in /usr/local/lib/python3.7/dist-packages (from scikit-learn==0.20.*) (1.7.3)\n",
            "Requirement already satisfied: numpy>=1.8.2 in /usr/local/lib/python3.7/dist-packages (from scikit-learn==0.20.*) (1.21.6)\n",
            "Requirement already satisfied: typing-extensions in /usr/local/lib/python3.7/dist-packages (from torch) (4.1.1)\n",
            "Requirement already satisfied: tqdm>=4.14.0 in /usr/local/lib/python3.7/dist-packages (from skorch) (4.64.0)\n",
            "Requirement already satisfied: tabulate>=0.7.7 in /usr/local/lib/python3.7/dist-packages (from skorch) (0.8.10)\n"
          ]
        }
      ],
      "source": [
        "! [ ! -z \"$COLAB_GPU\" ] && pip install torch scikit-learn==0.20.* skorch"
      ]
    },
    {
      "cell_type": "code",
      "execution_count": 31,
      "metadata": {
        "id": "VZiqCkU3--qi"
      },
      "outputs": [],
      "source": [
        "from sklearn.datasets import fetch_openml\n",
        "from sklearn.model_selection import train_test_split\n",
        "import numpy as np\n",
        "import matplotlib.pyplot as plt\n",
        "\n",
        "from warnings import filterwarnings\n",
        "filterwarnings(\"ignore\")    #category=DeprecationWarning, message='is a deprecated alias'\n",
        "\n",
        "useSparseNetwork = True\n",
        "if(useSparseNetwork):\n",
        "    #set Runtime type = high RAM\n",
        "    batchSizeMLP = 2048  \n",
        "    batchSizeCNN = 128  #max value determined by numberOfSparseConvolutionLayers, numberOfchannelsFirstDenseLayer, GPU RAM\n",
        "    numberOfEpochsMLP = 10  #10\n",
        "    numberOfEpochsCNN = 10  #10\n",
        "else:\n",
        "    batchSizeMLP = 128\n",
        "    batchSizeCNN = 128\n",
        "    numberOfEpochsMLP = 20\n",
        "    numberOfEpochsCNN = 10\n",
        "\n",
        "learningAlgorithmLUANN = False\n",
        "onlyTrainFinalLayer = False #initialise dependent var\n",
        "if(learningAlgorithmLUANN):\n",
        "    onlyTrainFinalLayer = True"
      ]
    },
    {
      "cell_type": "markdown",
      "metadata": {
        "id": "UhsLIZfg--qk"
      },
      "source": [
        "## Loading Data\n",
        "Using SciKit-Learns ```fetch_openml``` to load MNIST data."
      ]
    },
    {
      "cell_type": "code",
      "execution_count": 32,
      "metadata": {
        "id": "OHo3HR4P--qm"
      },
      "outputs": [],
      "source": [
        "mnist = fetch_openml('mnist_784', cache=False)"
      ]
    },
    {
      "cell_type": "code",
      "execution_count": 33,
      "metadata": {
        "id": "yK-oE30K--qn",
        "outputId": "4d64e8f2-b77d-41ed-a7d0-88325e1a5f82",
        "colab": {
          "base_uri": "https://localhost:8080/"
        }
      },
      "outputs": [
        {
          "output_type": "execute_result",
          "data": {
            "text/plain": [
              "(70000, 784)"
            ]
          },
          "metadata": {},
          "execution_count": 33
        }
      ],
      "source": [
        "mnist.data.shape"
      ]
    },
    {
      "cell_type": "markdown",
      "metadata": {
        "id": "iBecc6yQ--qp"
      },
      "source": [
        "## Preprocessing Data\n",
        "\n",
        "Each image of the MNIST dataset is encoded in a 784 dimensional vector, representing a 28 x 28 pixel image. Each pixel has a value between 0 and 255, corresponding to the grey-value of a pixel.<br />\n",
        "The above ```featch_mldata``` method to load MNIST returns ```data``` and ```target``` as ```uint8``` which we convert to ```float32``` and ```int64``` respectively."
      ]
    },
    {
      "cell_type": "code",
      "execution_count": 34,
      "metadata": {
        "id": "hWTDRrfA--qq"
      },
      "outputs": [],
      "source": [
        "X = mnist.data.astype('float32')\n",
        "y = mnist.target.astype('int64')"
      ]
    },
    {
      "cell_type": "markdown",
      "metadata": {
        "id": "SBMFueA9--qs"
      },
      "source": [
        "To avoid big weights that deal with the pixel values from between [0, 255], we scale `X` down. A commonly used range is [0, 1]."
      ]
    },
    {
      "cell_type": "code",
      "execution_count": 35,
      "metadata": {
        "id": "BF6q-259--qt"
      },
      "outputs": [],
      "source": [
        "X /= 255.0"
      ]
    },
    {
      "cell_type": "code",
      "execution_count": 36,
      "metadata": {
        "id": "3gkoxPMQ--qu",
        "outputId": "159fb23f-b629-4682-8db8-5bed4216a8c9",
        "colab": {
          "base_uri": "https://localhost:8080/"
        }
      },
      "outputs": [
        {
          "output_type": "execute_result",
          "data": {
            "text/plain": [
              "(0.0, 1.0)"
            ]
          },
          "metadata": {},
          "execution_count": 36
        }
      ],
      "source": [
        "X.min(), X.max()"
      ]
    },
    {
      "cell_type": "markdown",
      "metadata": {
        "id": "kOgDy8AC--qu"
      },
      "source": [
        "Note: data is not normalized."
      ]
    },
    {
      "cell_type": "code",
      "execution_count": 37,
      "metadata": {
        "id": "Uk5cZ7iQ--qv"
      },
      "outputs": [],
      "source": [
        "X_train, X_test, y_train, y_test = train_test_split(X, y, test_size=0.25, random_state=42)"
      ]
    },
    {
      "cell_type": "code",
      "execution_count": 38,
      "metadata": {
        "id": "JdzB7Jnn--qw"
      },
      "outputs": [],
      "source": [
        "assert(X_train.shape[0] + X_test.shape[0] == mnist.data.shape[0])"
      ]
    },
    {
      "cell_type": "code",
      "execution_count": 39,
      "metadata": {
        "id": "BpeDtsDy--qw",
        "outputId": "6eda354a-310a-4e0b-f129-8c37692ff105",
        "colab": {
          "base_uri": "https://localhost:8080/"
        }
      },
      "outputs": [
        {
          "output_type": "execute_result",
          "data": {
            "text/plain": [
              "((52500, 784), (52500,))"
            ]
          },
          "metadata": {},
          "execution_count": 39
        }
      ],
      "source": [
        "X_train.shape, y_train.shape"
      ]
    },
    {
      "cell_type": "markdown",
      "metadata": {
        "id": "R_EJvc00--qx"
      },
      "source": [
        "### Print a selection of training images and their labels"
      ]
    },
    {
      "cell_type": "code",
      "execution_count": 40,
      "metadata": {
        "id": "z3urGwj5--qx"
      },
      "outputs": [],
      "source": [
        "def plot_example(X, y):\n",
        "    \"\"\"Plot the first 5 images and their labels in a row.\"\"\"\n",
        "    for i, (img, y) in enumerate(zip(X[:5].reshape(5, 28, 28), y[:5])):\n",
        "        plt.subplot(151 + i)\n",
        "        plt.imshow(img)\n",
        "        plt.xticks([])\n",
        "        plt.yticks([])\n",
        "        plt.title(y)"
      ]
    },
    {
      "cell_type": "code",
      "execution_count": 41,
      "metadata": {
        "id": "WCLy7ZXl--qy",
        "outputId": "2237ed00-db78-4539-9eec-2fd3161d60e4",
        "colab": {
          "base_uri": "https://localhost:8080/",
          "height": 108
        }
      },
      "outputs": [
        {
          "output_type": "display_data",
          "data": {
            "text/plain": [
              "<Figure size 432x288 with 5 Axes>"
            ],
            "image/png": "[encoded data removed]"
          },
          "metadata": {}
        }
      ],
      "source": [
        "plot_example(X_train, y_train)"
      ]
    },
    {
      "cell_type": "markdown",
      "metadata": {
        "id": "9lOkB3Dm--qy"
      },
      "source": [
        "## Build Neural Network with PyTorch\n",
        "Simple, fully connected neural network with one hidden layer. Input layer has 784 dimensions (28x28), hidden layer has 98 (= 784 / 8) and output layer 10 neurons, representing digits 0 - 9."
      ]
    },
    {
      "cell_type": "code",
      "execution_count": 42,
      "metadata": {
        "id": "8YysBfKi--qy"
      },
      "outputs": [],
      "source": [
        "import torch\n",
        "from torch import nn\n",
        "import torch.nn.functional as F"
      ]
    },
    {
      "cell_type": "code",
      "execution_count": 43,
      "metadata": {
        "id": "3OmjGef_--qz"
      },
      "outputs": [],
      "source": [
        "device = 'cuda' if torch.cuda.is_available() else 'cpu'"
      ]
    },
    {
      "cell_type": "code",
      "execution_count": 44,
      "metadata": {
        "id": "33lwxpxN--qz"
      },
      "outputs": [],
      "source": [
        "mnist_dim = X.shape[1]\n",
        "hidden_dim = int(mnist_dim/8)\n",
        "output_dim = len(np.unique(mnist.target))"
      ]
    },
    {
      "cell_type": "code",
      "execution_count": 45,
      "metadata": {
        "id": "0Dr2f4g9--q0",
        "outputId": "1d77c13d-c298-4b04-d93a-c41118ebb17c",
        "colab": {
          "base_uri": "https://localhost:8080/"
        }
      },
      "outputs": [
        {
          "output_type": "execute_result",
          "data": {
            "text/plain": [
              "(784, 98, 10)"
            ]
          },
          "metadata": {},
          "execution_count": 45
        }
      ],
      "source": [
        "mnist_dim, hidden_dim, output_dim"
      ]
    },
    {
      "cell_type": "markdown",
      "metadata": {
        "id": "0mHnjijo--q0"
      },
      "source": [
        "A Neural network in PyTorch's framework."
      ]
    },
    {
      "cell_type": "code",
      "execution_count": 46,
      "metadata": {
        "id": "uC311xvO--q0"
      },
      "outputs": [],
      "source": [
        "class MLPModel(nn.Module):\n",
        "    def __init__(\n",
        "            self,\n",
        "            input_dim=mnist_dim,\n",
        "            hidden_dim=hidden_dim,\n",
        "            output_dim=output_dim,\n",
        "            dropout=0.5,\n",
        "    ):\n",
        "        super(MLPModel, self).__init__()\n",
        "\n",
        "        self.isCNNmodel = False\n",
        "\n",
        "        self.dropout = nn.Dropout(dropout)\n",
        "\n",
        "        #print(\"hidden_dim = \", hidden_dim)\n",
        "        self.numberOfSparseLayers = 1 #default: 1 (1 or 2)\n",
        "        if(self.numberOfSparseLayers == 1):\n",
        "            self.numberOfchannelsFirstDenseLayer = 100   #first/dense linear layer   #hidden_dim?\n",
        "        elif(self.numberOfSparseLayers == 2):\n",
        "            self.numberOfchannelsFirstDenseLayer = 10    #first/dense linear layer #hidden_dim?\n",
        "        else:\n",
        "            print(\"useSparseNetwork warning: numberOfSparseConvolutionLayers is too high for compute/memory\")\n",
        "            self.numberOfchannelsFirstDenseLayer = 2\n",
        "\n",
        "        numberOfchannels = self.numberOfchannelsFirstDenseLayer \n",
        "\n",
        "        self.linear1 = nn.Linear(input_dim, numberOfchannels)\n",
        "\n",
        "        self.sparseLayerList = [None]*self.numberOfSparseLayers\n",
        "        numberOfchannels = self.generateSparseLayers(numberOfchannels, self.sparseLayerList, self.numberOfSparseLayers)\n",
        "\n",
        "        self.output = nn.Linear(numberOfchannels, output_dim)\n",
        "\n",
        "    def generateSparseLayers(self, numberOfchannels, sparseLayerList, numberOfSparseLayers):\n",
        "        for c in range(numberOfSparseLayers):\n",
        "            #print(\"c = \", c)\n",
        "            if(useSparseNetwork):\n",
        "                numChannelPairs = self.calculateNumberChannelPairs(numberOfchannels)\n",
        "                #print(\"numberOfchannels = \", numberOfchannels)\n",
        "                #print(\"numChannelPairs = \", numChannelPairs)\n",
        "                sparseLayerList[c] = []\n",
        "                numberOfInputChannels = 2\n",
        "                numberOfOutputChannels = 1\n",
        "                for channelPairIndex in range(numChannelPairs):\n",
        "                    layer = self.generateLayer(numberOfInputChannels, numberOfOutputChannels)\n",
        "                    sparseLayerList[c].append(layer)\n",
        "                if(self.isCNNmodel):\n",
        "                    self.height, self.width = self.getImageDimensionsAfterConv(self.height, self.width, self.kernelSize, self.padding, self.stride, self.maxPoolSize)\n",
        "                numberOfchannels = numChannelPairs*numberOfOutputChannels\n",
        "            else:\n",
        "                if(self.isCNNmodel):\n",
        "                    #only used by CNN originally:\n",
        "                    numberOfInputChannels = numberOfchannels\n",
        "                    numberOfOutputChannels = numberOfchannels*2\n",
        "                    layer = self.generateLayer(numberOfchannels, numberOfOutputChannels)\n",
        "                    if(self.isCNNmodel):\n",
        "                        self.height, self.width = self.getImageDimensionsAfterConv(self.height, self.width, self.kernelSize, self.padding, self.stride, self.maxPoolSize)\n",
        "                    self.sparseConvList[c] = layer\n",
        "                    numberOfchannels = numberOfOutputChannels\n",
        "\n",
        "        return numberOfchannels\n",
        "\n",
        "    def generateLayer(self, numberOfInputChannels, numberOfOutputChannels):\n",
        "        return self.generateLayerLNN(numberOfInputChannels, numberOfOutputChannels)\n",
        "\n",
        "    def generateLayerLNN(self, numberOfInputChannels, numberOfOutputChannels):\n",
        "        layer = nn.Linear(numberOfInputChannels, numberOfOutputChannels)\n",
        "        return layer\n",
        "\n",
        "    def forward(self, x, **kwargs):\n",
        "\n",
        "        #first/dense linear layer\n",
        "        x = self.linear1(x)\n",
        "        x = self.activationFunction(x)\n",
        "\n",
        "        x = self.executeSparseLayers(x)\n",
        "\n",
        "        if(onlyTrainFinalLayer):\n",
        "            x = x.detach()\n",
        "\n",
        "        x = F.softmax(self.output(x), dim=-1)\n",
        "\n",
        "        return x\n",
        "\n",
        "    def executeSparseLayers(self, X):\n",
        "\n",
        "        numberOfchannels = self.numberOfchannelsFirstDenseLayer\n",
        "\n",
        "        for c in range(self.numberOfSparseLayers):\n",
        "            if(useSparseNetwork):\n",
        "                numChannelPairs = self.calculateNumberChannelPairs(numberOfchannels)\n",
        "                channelsPairsList = self.convertToChannelsToChannelPairsList(X)\n",
        "                channelPairSublayerOutputList = []\n",
        "                numberOfInputChannels = 2\n",
        "                numberOfOutputChannels = 1\n",
        "                for channelPairIndex in range(numChannelPairs):\n",
        "                    sublayerIn = channelsPairsList[channelPairIndex]\n",
        "                    sublayerOut = (self.sparseLayerList[c])[channelPairIndex](sublayerIn)\n",
        "                    sublayerOut = torch.squeeze(sublayerOut, dim=1)   #remove channel dim (size=numberOfOutputChannels=1); prepare for convertChannelPairLINoutputListToChannels execution\n",
        "                    channelPairSublayerOutputList.append(sublayerOut)\n",
        "                layerOut = self.convertChannelPairSublayerOutputListToChannels(channelPairSublayerOutputList)\n",
        "                numberOfchannels = numChannelPairs*numberOfOutputChannels\n",
        "            else:\n",
        "                layerIn = X\n",
        "                layerOut = (self.sparseLayerList[c])(layerIn)\n",
        "            layerOut = self.activationFunction(layerOut)\n",
        "            X = layerOut\n",
        "        \n",
        "        return X\n",
        "\n",
        "    def activationFunction(self, Z):\n",
        "        A = F.relu(Z)\n",
        "        A = self.dropout(A)\n",
        "        return A\n",
        "\n",
        "    def calculateNumberChannelPairs(self, numInputChannels):\n",
        "        numChannelPairs = numInputChannels**2\n",
        "        return numChannelPairs\n",
        "        #numOutputChannels = number of filters\n",
        "\n",
        "    def convertToChannelsToChannelPairsList(self, channels):\n",
        "        res = self.getSublayerTensorProperties(channels)\n",
        "        batchSize = res[0]\n",
        "        numberOfchannels = res[1]\n",
        "        numChannelPairs = self.calculateNumberChannelPairs(numberOfchannels)\n",
        "        channelsPairsList = []\n",
        "        for channelIndex1 in range(numberOfchannels):\n",
        "            for channelIndex2 in range(numberOfchannels):\n",
        "                channelPairIndex = channelIndex1*numChannelPairs + channelIndex2\n",
        "                channelPairSub1 = channels[:, channelIndex1]  #channels[:, channelIndex1, :]\n",
        "                channelPairSub2 = channels[:, channelIndex2]  #channels[:, channelIndex2, :]\n",
        "                channelPairSub1 = torch.unsqueeze(channelPairSub1, dim=1)\n",
        "                channelPairSub2 = torch.unsqueeze(channelPairSub2, dim=1)\n",
        "                channelPair = torch.cat((channelPairSub1, channelPairSub2), dim=1)\n",
        "                channelsPairsList.append(channelPair)\n",
        "        return channelsPairsList\n",
        "\n",
        "    def getSublayerTensorProperties(self, channels):\n",
        "       return self.getLINtensorProperties(channels)\n",
        "\n",
        "    def getLINtensorProperties(self, channels):\n",
        "        batchSize = channels.shape[0]\n",
        "        numberOfchannels = channels.shape[1]\n",
        "        return (batchSize, numberOfchannels)\n",
        "\n",
        "    def convertChannelPairSublayerOutputListToChannels(self, channelPairSublayerOutputList):\n",
        "        channels = torch.stack(channelPairSublayerOutputList, dim=1)\n",
        "        return channels"
      ]
    },
    {
      "cell_type": "markdown",
      "metadata": {
        "id": "-30HWZ-g--q1"
      },
      "source": [
        "skorch allows to use PyTorch's networks in the SciKit-Learn setting:"
      ]
    },
    {
      "cell_type": "code",
      "execution_count": 47,
      "metadata": {
        "id": "AicBGdq0--q1"
      },
      "outputs": [],
      "source": [
        "from skorch import NeuralNetClassifier"
      ]
    },
    {
      "cell_type": "code",
      "execution_count": 48,
      "metadata": {
        "id": "uBYpucG0--q2"
      },
      "outputs": [],
      "source": [
        "torch.manual_seed(0)\n",
        "\n",
        "net = NeuralNetClassifier(\n",
        "    MLPModel,\n",
        "    max_epochs=numberOfEpochsMLP,\n",
        "    lr=0.1,\n",
        "    device=device,\n",
        "    batch_size=batchSizeMLP,\n",
        ")"
      ]
    },
    {
      "cell_type": "code",
      "execution_count": 49,
      "metadata": {
        "id": "DfUx7jMR--q2",
        "outputId": "1304e124-4f3d-40fc-bd25-6ac679c82597",
        "colab": {
          "base_uri": "https://localhost:8080/"
        }
      },
      "outputs": [
        {
          "output_type": "stream",
          "name": "stdout",
          "text": [
            "  epoch    train_loss    valid_acc    valid_loss       dur\n",
            "-------  ------------  -----------  ------------  --------\n",
            "      1       \u001b[36m11.0062\u001b[0m       \u001b[32m0.0984\u001b[0m       \u001b[35m13.6776\u001b[0m  132.5101\n"
          ]
        },
        {
          "output_type": "execute_result",
          "data": {
            "text/plain": [
              "<class 'skorch.classifier.NeuralNetClassifier'>[initialized](\n",
              "  module_=MLPModel(\n",
              "    (dropout): Dropout(p=0.5, inplace=False)\n",
              "    (linear1): Linear(in_features=784, out_features=100, bias=True)\n",
              "    (output): Linear(in_features=10000, out_features=10, bias=True)\n",
              "  ),\n",
              ")"
            ]
          },
          "metadata": {},
          "execution_count": 49
        }
      ],
      "source": [
        "net.fit(X_train, y_train)"
      ]
    },
    {
      "cell_type": "markdown",
      "metadata": {
        "id": "DjgE-Uto--q2"
      },
      "source": [
        "## Prediction"
      ]
    },
    {
      "cell_type": "code",
      "execution_count": 50,
      "metadata": {
        "id": "QJMblY39--q3"
      },
      "outputs": [],
      "source": [
        "from sklearn.metrics import accuracy_score"
      ]
    },
    {
      "cell_type": "code",
      "execution_count": 51,
      "metadata": {
        "id": "lLD7E8KR--q3"
      },
      "outputs": [],
      "source": [
        "y_pred = net.predict(X_test)"
      ]
    },
    {
      "cell_type": "code",
      "execution_count": 52,
      "metadata": {
        "id": "_dCUHN_p--q3",
        "outputId": "312a3c06-f4d1-42e5-91fd-7f1a9778631e",
        "colab": {
          "base_uri": "https://localhost:8080/"
        }
      },
      "outputs": [
        {
          "output_type": "execute_result",
          "data": {
            "text/plain": [
              "0.09468571428571429"
            ]
          },
          "metadata": {},
          "execution_count": 52
        }
      ],
      "source": [
        "accuracy_score(y_test, y_pred)"
      ]
    },
    {
      "cell_type": "markdown",
      "metadata": {
        "id": "bXLcdqbN--q4"
      },
      "source": [
        "An accuracy of about 96% for a network with only one hidden layer is not too bad.\n",
        "\n",
        "Let's take a look at some predictions that went wrong:"
      ]
    },
    {
      "cell_type": "code",
      "execution_count": 53,
      "metadata": {
        "id": "Tin-L-ui--q4"
      },
      "outputs": [],
      "source": [
        "error_mask = y_pred != y_test"
      ]
    },
    {
      "cell_type": "code",
      "execution_count": 54,
      "metadata": {
        "id": "XmRLxBgM--q4",
        "outputId": "d8f50f46-089e-4d03-f9b9-bd15f8570c4b",
        "colab": {
          "base_uri": "https://localhost:8080/",
          "height": 108
        }
      },
      "outputs": [
        {
          "output_type": "display_data",
          "data": {
            "text/plain": [
              "<Figure size 432x288 with 5 Axes>"
            ],
            "image/png": "[encoded data removed]"
          },
          "metadata": {}
        }
      ],
      "source": [
        "plot_example(X_test[error_mask], y_pred[error_mask])"
      ]
    },
    {
      "cell_type": "markdown",
      "metadata": {
        "id": "XQ9yogDR--q5"
      },
      "source": [
        "# Convolutional Network\n",
        "PyTorch expects a 4 dimensional tensor as input for its 2D convolution layer. The dimensions represent:\n",
        "* Batch size\n",
        "* Number of channel\n",
        "* Height\n",
        "* Width\n",
        "\n",
        "As initial batch size the number of examples needs to be provided. MNIST data has only one channel. As stated above, each MNIST vector represents a 28x28 pixel image. Hence, the resulting shape for PyTorch tensor needs to be (x, 1, 28, 28). "
      ]
    },
    {
      "cell_type": "code",
      "execution_count": 55,
      "metadata": {
        "id": "446TDdHV--q5"
      },
      "outputs": [],
      "source": [
        "XCnn = X.reshape(-1, 1, 28, 28)"
      ]
    },
    {
      "cell_type": "code",
      "execution_count": 56,
      "metadata": {
        "id": "1kwClR2Q--q6",
        "outputId": "82032646-6328-4d5d-c326-4361d22e650c",
        "colab": {
          "base_uri": "https://localhost:8080/"
        }
      },
      "outputs": [
        {
          "output_type": "execute_result",
          "data": {
            "text/plain": [
              "(70000, 1, 28, 28)"
            ]
          },
          "metadata": {},
          "execution_count": 56
        }
      ],
      "source": [
        "XCnn.shape"
      ]
    },
    {
      "cell_type": "code",
      "execution_count": 57,
      "metadata": {
        "id": "XgYFsGJ7--q6"
      },
      "outputs": [],
      "source": [
        "XCnn_train, XCnn_test, y_train, y_test = train_test_split(XCnn, y, test_size=0.25, random_state=42)"
      ]
    },
    {
      "cell_type": "code",
      "execution_count": 58,
      "metadata": {
        "id": "tNJJXx4h--q6",
        "outputId": "a8ae1b69-cc8a-49a8-a38c-f07ba0f4d133",
        "colab": {
          "base_uri": "https://localhost:8080/"
        }
      },
      "outputs": [
        {
          "output_type": "execute_result",
          "data": {
            "text/plain": [
              "((52500, 1, 28, 28), (52500,))"
            ]
          },
          "metadata": {},
          "execution_count": 58
        }
      ],
      "source": [
        "XCnn_train.shape, y_train.shape"
      ]
    },
    {
      "cell_type": "code",
      "execution_count": 59,
      "metadata": {
        "id": "OXnsFnJf--q7"
      },
      "outputs": [],
      "source": [
        "class CNNModel(nn.Module):\n",
        "    def __init__(self, dropout=0.5):\n",
        "        super(CNNModel, self).__init__()\n",
        "\n",
        "        self.isCNNmodel = True\n",
        "\n",
        "        self.height = 28 #MNIST defined\n",
        "        self.width = 28  #MNIST defined\n",
        "        self.kernelSize = 3\n",
        "        self.padding = 0\n",
        "        self.stride = 1\n",
        "        self.maxPoolSize = 2 #assume max pool at each layer\n",
        "\n",
        "        self.numberOfSparseLayers = 1 #default: 1 (1 or 2)\n",
        "        if(self.numberOfSparseLayers == 1):\n",
        "            self.numberOfchannelsFirstDenseLayer = 32   #first/dense CNN layer\n",
        "        elif(self.numberOfSparseLayers == 2):\n",
        "            self.numberOfchannelsFirstDenseLayer = 8    #first/dense CNN layer \n",
        "        else:\n",
        "            print(\"useSparseNetwork warning: numberOfSparseConvolutionLayers is too high for compute/memory\")\n",
        "            self.numberOfchannelsFirstDenseLayer = 2\n",
        "\n",
        "        numberOfchannels = self.numberOfchannelsFirstDenseLayer  \n",
        "        self.conv1 = nn.Conv2d(1, numberOfchannels, kernel_size=self.kernelSize, padding=self.padding, stride=self.stride)\n",
        "        self.height, self.width = self.getImageDimensionsAfterConv(self.height, self.width, self.kernelSize, self.padding, self.stride, self.maxPoolSize)\n",
        "\n",
        "        self.sparseLayerList = [None]*self.numberOfSparseLayers\n",
        "        numberOfchannels = self.generateSparseLayers(numberOfchannels, self.sparseLayerList, self.numberOfSparseLayers)\n",
        "\n",
        "        firstLinearInputSize = numberOfchannels*self.width*self.height\n",
        "\n",
        "        self.conv2_drop = nn.Dropout2d(p=dropout)\n",
        "        self.fc1 = nn.Linear(firstLinearInputSize, 100)\n",
        "        self.fc2 = nn.Linear(100, 10)\n",
        "        self.fc1_drop = nn.Dropout(p=dropout)\n",
        "\n",
        "    def generateSparseLayers(self, numberOfchannels, sparseLayerList, numberOfSparseLayers):\n",
        "        for c in range(numberOfSparseLayers):\n",
        "            #print(\"c = \", c)\n",
        "            if(useSparseNetwork):\n",
        "                numChannelPairs = self.calculateNumberChannelPairs(numberOfchannels)\n",
        "                #print(\"numberOfchannels = \", numberOfchannels)\n",
        "                #print(\"numChannelPairs = \", numChannelPairs)\n",
        "                sparseLayerList[c] = []\n",
        "                numberOfInputChannels = 2\n",
        "                numberOfOutputChannels = 1\n",
        "                for channelPairIndex in range(numChannelPairs):\n",
        "                    layer = self.generateLayer(numberOfInputChannels, numberOfOutputChannels)\n",
        "                    sparseLayerList[c].append(layer)\n",
        "                if(self.isCNNmodel):\n",
        "                    self.height, self.width = self.getImageDimensionsAfterConv(self.height, self.width, self.kernelSize, self.padding, self.stride, self.maxPoolSize)\n",
        "                numberOfchannels = numChannelPairs*numberOfOutputChannels\n",
        "            else:\n",
        "                if(self.isCNNmodel):\n",
        "                    #only used by CNN originally:\n",
        "                    numberOfInputChannels = numberOfchannels\n",
        "                    numberOfOutputChannels = numberOfchannels*2\n",
        "                    layer = self.generateLayer(numberOfchannels, numberOfOutputChannels)\n",
        "                    if(self.isCNNmodel):\n",
        "                        self.height, self.width = self.getImageDimensionsAfterConv(self.height, self.width, self.kernelSize, self.padding, self.stride, self.maxPoolSize)\n",
        "                    self.sparseConvList[c] = layer\n",
        "                    numberOfchannels = numberOfOutputChannels\n",
        "\n",
        "        return numberOfchannels\n",
        "\n",
        "    def generateLayer(self, numberOfInputChannels, numberOfOutputChannels):\n",
        "        return self.generateLayerCNN(numberOfInputChannels, numberOfOutputChannels)\n",
        "\n",
        "    def generateLayerCNN(self, numberOfInputChannels, numberOfOutputChannels):\n",
        "        layer = nn.Conv2d(numberOfInputChannels, numberOfOutputChannels, kernel_size=self.kernelSize, padding=self.padding, stride=self.stride)\n",
        "        return layer\n",
        "\n",
        "    def forward(self, x):\n",
        "\n",
        "        x = self.conv1(x)\n",
        "        x = self.activationFunction(x, useDropOut=False)\n",
        "\n",
        "        x = self.executeSparseLayers(x)\n",
        "\n",
        "        if(onlyTrainFinalLayer):\n",
        "            x = x.detach()\n",
        "\n",
        "        # flatten over channel, height and width\n",
        "        x = x.view(-1, x.size(1) * x.size(2) * x.size(3))\n",
        "\n",
        "        x = torch.relu(self.fc1_drop(self.fc1(x)))\n",
        "        x = torch.softmax(self.fc2(x), dim=-1)\n",
        "\n",
        "        return x\n",
        "\n",
        "    def executeSparseLayers(self, X):\n",
        "\n",
        "        numberOfchannels = self.numberOfchannelsFirstDenseLayer\n",
        "\n",
        "        for c in range(self.numberOfSparseLayers):\n",
        "            if(useSparseNetwork):\n",
        "                numChannelPairs = self.calculateNumberChannelPairs(numberOfchannels)\n",
        "                channelsPairsList = self.convertToChannelsToChannelPairsList(X)\n",
        "                channelPairSublayerOutputList = []\n",
        "                numberOfInputChannels = 2\n",
        "                numberOfOutputChannels = 1\n",
        "                for channelPairIndex in range(numChannelPairs):\n",
        "                    sublayerIn = channelsPairsList[channelPairIndex]\n",
        "                    sublayerOut = (self.sparseLayerList[c])[channelPairIndex](sublayerIn)\n",
        "                    sublayerOut = torch.squeeze(sublayerOut, dim=1)   #remove channel dim (size=numberOfOutputChannels=1); prepare for convertChannelPairLINoutputListToChannels execution\n",
        "                    channelPairSublayerOutputList.append(sublayerOut)\n",
        "                layerOut = self.convertChannelPairSublayerOutputListToChannels(channelPairSublayerOutputList)\n",
        "                numberOfchannels = numChannelPairs*numberOfOutputChannels\n",
        "            else:\n",
        "                layerIn = X\n",
        "                layerOut = (self.sparseLayerList[c])(layerIn)\n",
        "            layerOut = self.activationFunction(layerOut)\n",
        "            X = layerOut\n",
        "        \n",
        "        return X\n",
        "\n",
        "    def activationFunction(self, Z, useDropOut=True):\n",
        "        if(useDropOut):\n",
        "            Z = self.conv2_drop(Z)\n",
        "        A = torch.relu(F.max_pool2d(Z, kernel_size=self.maxPoolSize))\n",
        "        return A\n",
        "\n",
        "    def getImageDimensionsAfterConv(self, inputHeight, inputWidth, kernelSize, padding, stride, maxPoolSize):\n",
        "        height = (inputHeight - (kernelSize//2 * 2) + padding) // stride // maxPoolSize    #// = integer floor division\n",
        "        width = (inputWidth - (kernelSize//2 * 2) + padding) // stride // maxPoolSize\n",
        "        return height, width\n",
        "\n",
        "    def calculateNumberChannelPairs(self, numInputChannels):\n",
        "        numChannelPairs = numInputChannels**2\n",
        "        return numChannelPairs\n",
        "        #numOutputChannels = number of filters\n",
        "\n",
        "    def convertToChannelsToChannelPairsList(self, channels):\n",
        "        res = self.getSublayerTensorProperties(channels)\n",
        "        batchSize = res[0]\n",
        "        numberOfchannels = res[1]\n",
        "        numChannelPairs = self.calculateNumberChannelPairs(numberOfchannels)\n",
        "        channelsPairsList = []\n",
        "        for channelIndex1 in range(numberOfchannels):\n",
        "            for channelIndex2 in range(numberOfchannels):\n",
        "                channelPairIndex = channelIndex1*numChannelPairs + channelIndex2\n",
        "                channelPairSub1 = channels[:, channelIndex1]  #channels[:, channelIndex1, :, :]\n",
        "                channelPairSub2 = channels[:, channelIndex2]  #channels[:, channelIndex1, :, :]\n",
        "                channelPairSub1 = torch.unsqueeze(channelPairSub1, dim=1)\n",
        "                channelPairSub2 = torch.unsqueeze(channelPairSub2, dim=1)\n",
        "                channelPair = torch.cat((channelPairSub1, channelPairSub2), dim=1)\n",
        "                channelsPairsList.append(channelPair)\n",
        "        return channelsPairsList\n",
        "\n",
        "    def getSublayerTensorProperties(self, channels):\n",
        "       return self.getCNNtensorProperties(channels)\n",
        "\n",
        "    def getCNNtensorProperties(self, channels):\n",
        "        batchSize = channels.shape[0]\n",
        "        numberOfchannels = channels.shape[1]\n",
        "        height = channels.shape[2]\n",
        "        width = channels.shape[3]\n",
        "        return (batchSize, numberOfchannels, height, width)\n",
        "\n",
        "    def convertChannelPairSublayerOutputListToChannels(self, channelPairSublayerOutputList):\n",
        "        channels = torch.stack(channelPairSublayerOutputList, dim=1)\n",
        "        return channels\n",
        "     "
      ]
    },
    {
      "cell_type": "code",
      "execution_count": 60,
      "metadata": {
        "id": "Hs3_lkRZ--q7"
      },
      "outputs": [],
      "source": [
        "torch.manual_seed(0)\n",
        "\n",
        "cnn = NeuralNetClassifier(\n",
        "    CNNModel,\n",
        "    max_epochs=numberOfEpochsCNN,\n",
        "    lr=0.002,\n",
        "    optimizer=torch.optim.Adam,\n",
        "    device=device,\n",
        "    batch_size=batchSizeCNN,\n",
        ")"
      ]
    },
    {
      "cell_type": "code",
      "execution_count": 61,
      "metadata": {
        "id": "UykGA1k_--q7",
        "outputId": "cd5ee698-3f5c-44ae-c036-a71094b4b056",
        "colab": {
          "base_uri": "https://localhost:8080/"
        }
      },
      "outputs": [
        {
          "output_type": "stream",
          "name": "stdout",
          "text": [
            "  epoch    train_loss    valid_acc    valid_loss       dur\n",
            "-------  ------------  -----------  ------------  --------\n",
            "      1        \u001b[36m1.6532\u001b[0m       \u001b[32m0.9006\u001b[0m        \u001b[35m0.6801\u001b[0m  830.8997\n"
          ]
        },
        {
          "output_type": "execute_result",
          "data": {
            "text/plain": [
              "<class 'skorch.classifier.NeuralNetClassifier'>[initialized](\n",
              "  module_=CNNModel(\n",
              "    (conv1): Conv2d(1, 32, kernel_size=(3, 3), stride=(1, 1))\n",
              "    (conv2_drop): Dropout2d(p=0.5, inplace=False)\n",
              "    (fc1): Linear(in_features=25600, out_features=100, bias=True)\n",
              "    (fc2): Linear(in_features=100, out_features=10, bias=True)\n",
              "    (fc1_drop): Dropout(p=0.5, inplace=False)\n",
              "  ),\n",
              ")"
            ]
          },
          "metadata": {},
          "execution_count": 61
        }
      ],
      "source": [
        "cnn.fit(XCnn_train, y_train)"
      ]
    },
    {
      "cell_type": "code",
      "execution_count": 62,
      "metadata": {
        "id": "PNEhdJdW--q8"
      },
      "outputs": [],
      "source": [
        "y_pred_cnn = cnn.predict(XCnn_test)"
      ]
    },
    {
      "cell_type": "code",
      "execution_count": 63,
      "metadata": {
        "id": "szmTFII6--q8",
        "colab": {
          "base_uri": "https://localhost:8080/"
        },
        "outputId": "0e497cc1-241e-4055-8e24-8fb198537b28"
      },
      "outputs": [
        {
          "output_type": "execute_result",
          "data": {
            "text/plain": [
              "0.9005714285714286"
            ]
          },
          "metadata": {},
          "execution_count": 63
        }
      ],
      "source": [
        "accuracy_score(y_test, y_pred_cnn)"
      ]
    },
    {
      "cell_type": "markdown",
      "metadata": {
        "id": "KncVCQ7j--q9"
      },
      "source": [
        "An accuracy of >98% should suffice for this example!\n",
        "\n",
        "Let's see how we fare on the examples that went wrong before:"
      ]
    },
    {
      "cell_type": "code",
      "execution_count": 64,
      "metadata": {
        "id": "_ACEkdhG--q9",
        "colab": {
          "base_uri": "https://localhost:8080/"
        },
        "outputId": "ce065255-cabc-4d30-84bb-2ca80a00335d"
      },
      "outputs": [
        {
          "output_type": "execute_result",
          "data": {
            "text/plain": [
              "0.9176923562456606"
            ]
          },
          "metadata": {},
          "execution_count": 64
        }
      ],
      "source": [
        "accuracy_score(y_test[error_mask], y_pred_cnn[error_mask])"
      ]
    },
    {
      "cell_type": "markdown",
      "metadata": {
        "id": "J83N6ubG--q9"
      },
      "source": [
        "Over 70% of the previously misclassified images are now correctly identified."
      ]
    },
    {
      "cell_type": "code",
      "execution_count": 65,
      "metadata": {
        "id": "Xl1Jz5bg--q-",
        "colab": {
          "base_uri": "https://localhost:8080/",
          "height": 108
        },
        "outputId": "3dead8d5-0bbc-4aed-cb8c-8c9b1faad4d2"
      },
      "outputs": [
        {
          "output_type": "display_data",
          "data": {
            "text/plain": [
              "<Figure size 432x288 with 5 Axes>"
            ],
            "image/png": "[encoded data removed]"
          },
          "metadata": {}
        }
      ],
      "source": [
        "plot_example(X_test[error_mask], y_pred_cnn[error_mask])"
      ]
    }
  ],
  "metadata": {
    "kernelspec": {
      "display_name": "Python 3",
      "language": "python",
      "name": "python3"
    },
    "language_info": {
      "codemirror_mode": {
        "name": "ipython",
        "version": 3
      },
      "file_extension": ".py",
      "mimetype": "text/x-python",
      "name": "python",
      "nbconvert_exporter": "python",
      "pygments_lexer": "ipython3",
      "version": "3.6.8"
    },
    "colab": {
      "provenance": [],
      "collapsed_sections": [],
      "machine_shape": "hm"
    },
    "gpuClass": "standard"
  },
  "nbformat": 4,
  "nbformat_minor": 0
}
